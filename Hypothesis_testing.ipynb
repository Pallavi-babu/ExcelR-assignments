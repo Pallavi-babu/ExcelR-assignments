{
  "nbformat": 4,
  "nbformat_minor": 0,
  "metadata": {
    "kernelspec": {
      "display_name": "Python 3",
      "language": "python",
      "name": "python3"
    },
    "language_info": {
      "codemirror_mode": {
        "name": "ipython",
        "version": 3
      },
      "file_extension": ".py",
      "mimetype": "text/x-python",
      "name": "python",
      "nbconvert_exporter": "python",
      "pygments_lexer": "ipython3",
      "version": "3.6.4"
    },
    "colab": {
      "name": "Hypothesis testing.ipynb",
      "provenance": []
    }
  },
  "cells": [
    {
      "cell_type": "markdown",
      "metadata": {
        "id": "hdvpK-tuDnee"
      },
      "source": [
        "# ***Hypothesis Testing***"
      ]
    },
    {
      "cell_type": "markdown",
      "metadata": {
        "id": "6XFqZAoYDne6"
      },
      "source": [
        "## 1. Cutlets data\n",
        "* Parameter of interest = d1-d2\n",
        "* alpha = 0.05"
      ]
    },
    {
      "cell_type": "code",
      "metadata": {
        "id": "wxw18T0bDne9"
      },
      "source": [
        "#importing libraries\n",
        "import pandas as pd\n",
        "import numpy as np\n",
        "from scipy import stats"
      ],
      "execution_count": null,
      "outputs": []
    },
    {
      "cell_type": "code",
      "metadata": {
        "id": "6vFlhZOzDne_",
        "outputId": "cc17c893-f975-4425-9f26-b3773fa00f37"
      },
      "source": [
        "#importing dataset\n",
        "cutlets=pd.read_csv(\"G:\\Data science\\ExcelR\\Assignments\\Cutlets.csv\")\n",
        "cutlets.head()"
      ],
      "execution_count": null,
      "outputs": [
        {
          "output_type": "execute_result",
          "data": {
            "text/html": [
              "<div>\n",
              "<style scoped>\n",
              "    .dataframe tbody tr th:only-of-type {\n",
              "        vertical-align: middle;\n",
              "    }\n",
              "\n",
              "    .dataframe tbody tr th {\n",
              "        vertical-align: top;\n",
              "    }\n",
              "\n",
              "    .dataframe thead th {\n",
              "        text-align: right;\n",
              "    }\n",
              "</style>\n",
              "<table border=\"1\" class=\"dataframe\">\n",
              "  <thead>\n",
              "    <tr style=\"text-align: right;\">\n",
              "      <th></th>\n",
              "      <th>Unit A</th>\n",
              "      <th>Unit B</th>\n",
              "    </tr>\n",
              "  </thead>\n",
              "  <tbody>\n",
              "    <tr>\n",
              "      <th>0</th>\n",
              "      <td>6.8090</td>\n",
              "      <td>6.7703</td>\n",
              "    </tr>\n",
              "    <tr>\n",
              "      <th>1</th>\n",
              "      <td>6.4376</td>\n",
              "      <td>7.5093</td>\n",
              "    </tr>\n",
              "    <tr>\n",
              "      <th>2</th>\n",
              "      <td>6.9157</td>\n",
              "      <td>6.7300</td>\n",
              "    </tr>\n",
              "    <tr>\n",
              "      <th>3</th>\n",
              "      <td>7.3012</td>\n",
              "      <td>6.7878</td>\n",
              "    </tr>\n",
              "    <tr>\n",
              "      <th>4</th>\n",
              "      <td>7.4488</td>\n",
              "      <td>7.1522</td>\n",
              "    </tr>\n",
              "  </tbody>\n",
              "</table>\n",
              "</div>"
            ],
            "text/plain": [
              "   Unit A  Unit B\n",
              "0  6.8090  6.7703\n",
              "1  6.4376  7.5093\n",
              "2  6.9157  6.7300\n",
              "3  7.3012  6.7878\n",
              "4  7.4488  7.1522"
            ]
          },
          "metadata": {
            "tags": []
          },
          "execution_count": 2
        }
      ]
    },
    {
      "cell_type": "code",
      "metadata": {
        "id": "YtnCLl1ADnfD",
        "outputId": "536a7856-bef3-4633-95ee-1d791a9ed725"
      },
      "source": [
        "unit_A=cutlets.iloc[:,0].values\n",
        "unit_B=cutlets.iloc[:,1].values\n",
        "print(unit_A.mean())\n",
        "print(unit_B.mean())"
      ],
      "execution_count": null,
      "outputs": [
        {
          "output_type": "stream",
          "text": [
            "7.0190914285714285\n",
            "6.964297142857142\n"
          ],
          "name": "stdout"
        }
      ]
    },
    {
      "cell_type": "markdown",
      "metadata": {
        "id": "S26P7IRvDnfE"
      },
      "source": [
        "* Null hypothesis=There is no difference in the diameter of the cutlets i.e., their dia are equal.\n",
        "* Alternate hypothesis=There is a signifacnt difference in the dia of cutlets b/w two units."
      ]
    },
    {
      "cell_type": "code",
      "metadata": {
        "id": "2W902QpqDnfF",
        "outputId": "09d717a6-095f-45e5-a874-1a754afd03b1"
      },
      "source": [
        "#two tail t-test\n",
        "stats.ttest_ind(unit_A,unit_B)"
      ],
      "execution_count": null,
      "outputs": [
        {
          "output_type": "execute_result",
          "data": {
            "text/plain": [
              "Ttest_indResult(statistic=0.7228688704678061, pvalue=0.4722394724599501)"
            ]
          },
          "metadata": {
            "tags": []
          },
          "execution_count": 4
        }
      ]
    },
    {
      "cell_type": "markdown",
      "metadata": {
        "id": "IEQrq_KBDnfH"
      },
      "source": [
        "* pvalue>0.05, Fail to reject Null hypothesis or we would be 47% wrong if we reject null hypothesis\n",
        "* Therefore, we can say that the diameters of two units of cutlets are equal"
      ]
    },
    {
      "cell_type": "markdown",
      "metadata": {
        "id": "R6eZsUqCDnfI"
      },
      "source": [
        "## 2.LabTAT data\n",
        "* Parameter of interest = Difference in the avg of TAT report\n",
        "* We use f-test for the given problem at alpha = 5% significance level"
      ]
    },
    {
      "cell_type": "code",
      "metadata": {
        "id": "oBcMI7DrDnfJ",
        "outputId": "524b9639-0929-4493-ea88-820f6a695204"
      },
      "source": [
        "lab_tat=pd.read_csv(\"G:\\Data science\\ExcelR\\Assignments\\LabTaT.csv\")\n",
        "lab_tat.head()"
      ],
      "execution_count": null,
      "outputs": [
        {
          "output_type": "execute_result",
          "data": {
            "text/html": [
              "<div>\n",
              "<style scoped>\n",
              "    .dataframe tbody tr th:only-of-type {\n",
              "        vertical-align: middle;\n",
              "    }\n",
              "\n",
              "    .dataframe tbody tr th {\n",
              "        vertical-align: top;\n",
              "    }\n",
              "\n",
              "    .dataframe thead th {\n",
              "        text-align: right;\n",
              "    }\n",
              "</style>\n",
              "<table border=\"1\" class=\"dataframe\">\n",
              "  <thead>\n",
              "    <tr style=\"text-align: right;\">\n",
              "      <th></th>\n",
              "      <th>Laboratory 1</th>\n",
              "      <th>Laboratory 2</th>\n",
              "      <th>Laboratory 3</th>\n",
              "      <th>Laboratory 4</th>\n",
              "    </tr>\n",
              "  </thead>\n",
              "  <tbody>\n",
              "    <tr>\n",
              "      <th>0</th>\n",
              "      <td>185.35</td>\n",
              "      <td>165.53</td>\n",
              "      <td>176.70</td>\n",
              "      <td>166.13</td>\n",
              "    </tr>\n",
              "    <tr>\n",
              "      <th>1</th>\n",
              "      <td>170.49</td>\n",
              "      <td>185.91</td>\n",
              "      <td>198.45</td>\n",
              "      <td>160.79</td>\n",
              "    </tr>\n",
              "    <tr>\n",
              "      <th>2</th>\n",
              "      <td>192.77</td>\n",
              "      <td>194.92</td>\n",
              "      <td>201.23</td>\n",
              "      <td>185.18</td>\n",
              "    </tr>\n",
              "    <tr>\n",
              "      <th>3</th>\n",
              "      <td>177.33</td>\n",
              "      <td>183.00</td>\n",
              "      <td>199.61</td>\n",
              "      <td>176.42</td>\n",
              "    </tr>\n",
              "    <tr>\n",
              "      <th>4</th>\n",
              "      <td>193.41</td>\n",
              "      <td>169.57</td>\n",
              "      <td>204.63</td>\n",
              "      <td>152.60</td>\n",
              "    </tr>\n",
              "  </tbody>\n",
              "</table>\n",
              "</div>"
            ],
            "text/plain": [
              "   Laboratory 1  Laboratory 2  Laboratory 3  Laboratory 4\n",
              "0        185.35        165.53        176.70        166.13\n",
              "1        170.49        185.91        198.45        160.79\n",
              "2        192.77        194.92        201.23        185.18\n",
              "3        177.33        183.00        199.61        176.42\n",
              "4        193.41        169.57        204.63        152.60"
            ]
          },
          "metadata": {
            "tags": []
          },
          "execution_count": 5
        }
      ]
    },
    {
      "cell_type": "markdown",
      "metadata": {
        "id": "gvBIh7ClDnfK"
      },
      "source": [
        "* Null hypothesis= The mean of TAT reports from 4 laboratories are equal\n",
        "* Alternate=The mean of TAT reports from 4 laboratories are not equal"
      ]
    },
    {
      "cell_type": "code",
      "metadata": {
        "id": "UXS7bd96DnfM",
        "outputId": "fcc75b56-cc6f-4acd-e75e-cbbc040e82a5"
      },
      "source": [
        "#F-test\n",
        "stats.f_oneway(lab_tat.iloc[:,0], lab_tat.iloc[:,1],lab_tat.iloc[:,2])"
      ],
      "execution_count": null,
      "outputs": [
        {
          "output_type": "execute_result",
          "data": {
            "text/plain": [
              "F_onewayResult(statistic=81.055779144798, pvalue=9.489467524356218e-30)"
            ]
          },
          "metadata": {
            "tags": []
          },
          "execution_count": 6
        }
      ]
    },
    {
      "cell_type": "markdown",
      "metadata": {
        "id": "Goc0qFQtDnfN"
      },
      "source": [
        "* Since, p-value<0.05\n",
        "* We can conclude that there is significant diff in avg TAT among the different libraries "
      ]
    },
    {
      "cell_type": "markdown",
      "metadata": {
        "id": "et9M4d7JDnfN"
      },
      "source": [
        "# 3.Buyer ratio dataset "
      ]
    },
    {
      "cell_type": "code",
      "metadata": {
        "id": "w2YoAdtYDnfO",
        "outputId": "7b205d10-a15b-47ac-bcba-d582546bfddc"
      },
      "source": [
        "buy_ratio=pd.read_csv(\"G:\\Data science\\ExcelR\\Assignments\\BuyerRatio.csv\")\n",
        "buy_ratio"
      ],
      "execution_count": null,
      "outputs": [
        {
          "output_type": "execute_result",
          "data": {
            "text/html": [
              "<div>\n",
              "<style scoped>\n",
              "    .dataframe tbody tr th:only-of-type {\n",
              "        vertical-align: middle;\n",
              "    }\n",
              "\n",
              "    .dataframe tbody tr th {\n",
              "        vertical-align: top;\n",
              "    }\n",
              "\n",
              "    .dataframe thead th {\n",
              "        text-align: right;\n",
              "    }\n",
              "</style>\n",
              "<table border=\"1\" class=\"dataframe\">\n",
              "  <thead>\n",
              "    <tr style=\"text-align: right;\">\n",
              "      <th></th>\n",
              "      <th>Observed Values</th>\n",
              "      <th>East</th>\n",
              "      <th>West</th>\n",
              "      <th>North</th>\n",
              "      <th>South</th>\n",
              "    </tr>\n",
              "  </thead>\n",
              "  <tbody>\n",
              "    <tr>\n",
              "      <th>0</th>\n",
              "      <td>Males</td>\n",
              "      <td>50</td>\n",
              "      <td>142</td>\n",
              "      <td>131</td>\n",
              "      <td>70</td>\n",
              "    </tr>\n",
              "    <tr>\n",
              "      <th>1</th>\n",
              "      <td>Females</td>\n",
              "      <td>435</td>\n",
              "      <td>1523</td>\n",
              "      <td>1356</td>\n",
              "      <td>750</td>\n",
              "    </tr>\n",
              "  </tbody>\n",
              "</table>\n",
              "</div>"
            ],
            "text/plain": [
              "  Observed Values  East  West  North  South\n",
              "0           Males    50   142    131     70\n",
              "1         Females   435  1523   1356    750"
            ]
          },
          "metadata": {
            "tags": []
          },
          "execution_count": 7
        }
      ]
    },
    {
      "cell_type": "code",
      "metadata": {
        "id": "PB9PVDxeDnfP",
        "outputId": "a0a6a4eb-62e4-4b19-e324-59ffa36e250f"
      },
      "source": [
        "#Converting dataframe to an array with values\n",
        "arr=buy_ratio.values\n",
        "print(arr)"
      ],
      "execution_count": null,
      "outputs": [
        {
          "output_type": "stream",
          "text": [
            "[['Males' 50 142 131 70]\n",
            " ['Females' 435 1523 1356 750]]\n"
          ],
          "name": "stdout"
        }
      ]
    },
    {
      "cell_type": "code",
      "metadata": {
        "id": "bIGDsf7fDnfQ",
        "outputId": "1eb175bd-0b3c-44a5-da5a-8619c176ac48"
      },
      "source": [
        "#Delete object data type Males and Females from first column\n",
        "array=np.delete(arr,0,1)\n",
        "print(array)"
      ],
      "execution_count": null,
      "outputs": [
        {
          "output_type": "stream",
          "text": [
            "[[50 142 131 70]\n",
            " [435 1523 1356 750]]\n"
          ],
          "name": "stdout"
        }
      ]
    },
    {
      "cell_type": "markdown",
      "metadata": {
        "id": "okgmYXGTDnfQ"
      },
      "source": [
        "### Chi-square test\n",
        "* Null hypothesis-Male-female buyer ratios are similar (All proportions are equal)\n",
        "* Alternate=Male-female buyer ratios are different"
      ]
    },
    {
      "cell_type": "code",
      "metadata": {
        "id": "f7T5c0CmDnfR",
        "outputId": "0d1efb86-aa29-496e-9e57-68338bc13bd9"
      },
      "source": [
        "from scipy.stats import chi2_contingency\n",
        "chi2_contingency(array)"
      ],
      "execution_count": null,
      "outputs": [
        {
          "output_type": "execute_result",
          "data": {
            "text/plain": [
              "(1.5959455386610577,\n",
              " 0.6603094907091882,\n",
              " 3,\n",
              " array([[  42.76531299,  146.81287862,  131.11756787,   72.30424052],\n",
              "        [ 442.23468701, 1518.18712138, 1355.88243213,  747.69575948]]))"
            ]
          },
          "metadata": {
            "tags": []
          },
          "execution_count": 10
        }
      ]
    },
    {
      "cell_type": "markdown",
      "metadata": {
        "id": "nCG1sUcPDnfS"
      },
      "source": [
        "* As p-value is greater than alpha(0.05),we fail to reject null hypothesis\n",
        "or we would be 66% wrong if we reject null hypothesis\n",
        "* Therefore, we can conclude that the proportions are equal"
      ]
    },
    {
      "cell_type": "markdown",
      "metadata": {
        "id": "wXtT_TT7DnfT"
      },
      "source": [
        "## 4. Customer order form"
      ]
    },
    {
      "cell_type": "code",
      "metadata": {
        "id": "r-3Kyam-DnfT",
        "outputId": "7b6cb9bc-1642-40b4-d3b9-b7cacd3689ef"
      },
      "source": [
        "cust_order=pd.read_csv(\"G:\\Data science\\ExcelR\\Assignments\\Costomer+OrderForm.csv\")\n",
        "cust_order.head()"
      ],
      "execution_count": null,
      "outputs": [
        {
          "output_type": "execute_result",
          "data": {
            "text/html": [
              "<div>\n",
              "<style scoped>\n",
              "    .dataframe tbody tr th:only-of-type {\n",
              "        vertical-align: middle;\n",
              "    }\n",
              "\n",
              "    .dataframe tbody tr th {\n",
              "        vertical-align: top;\n",
              "    }\n",
              "\n",
              "    .dataframe thead th {\n",
              "        text-align: right;\n",
              "    }\n",
              "</style>\n",
              "<table border=\"1\" class=\"dataframe\">\n",
              "  <thead>\n",
              "    <tr style=\"text-align: right;\">\n",
              "      <th></th>\n",
              "      <th>Phillippines</th>\n",
              "      <th>Indonesia</th>\n",
              "      <th>Malta</th>\n",
              "      <th>India</th>\n",
              "    </tr>\n",
              "  </thead>\n",
              "  <tbody>\n",
              "    <tr>\n",
              "      <th>0</th>\n",
              "      <td>Error Free</td>\n",
              "      <td>Error Free</td>\n",
              "      <td>Defective</td>\n",
              "      <td>Error Free</td>\n",
              "    </tr>\n",
              "    <tr>\n",
              "      <th>1</th>\n",
              "      <td>Error Free</td>\n",
              "      <td>Error Free</td>\n",
              "      <td>Error Free</td>\n",
              "      <td>Defective</td>\n",
              "    </tr>\n",
              "    <tr>\n",
              "      <th>2</th>\n",
              "      <td>Error Free</td>\n",
              "      <td>Defective</td>\n",
              "      <td>Defective</td>\n",
              "      <td>Error Free</td>\n",
              "    </tr>\n",
              "    <tr>\n",
              "      <th>3</th>\n",
              "      <td>Error Free</td>\n",
              "      <td>Error Free</td>\n",
              "      <td>Error Free</td>\n",
              "      <td>Error Free</td>\n",
              "    </tr>\n",
              "    <tr>\n",
              "      <th>4</th>\n",
              "      <td>Error Free</td>\n",
              "      <td>Error Free</td>\n",
              "      <td>Defective</td>\n",
              "      <td>Error Free</td>\n",
              "    </tr>\n",
              "  </tbody>\n",
              "</table>\n",
              "</div>"
            ],
            "text/plain": [
              "  Phillippines   Indonesia       Malta       India\n",
              "0   Error Free  Error Free   Defective  Error Free\n",
              "1   Error Free  Error Free  Error Free   Defective\n",
              "2   Error Free   Defective   Defective  Error Free\n",
              "3   Error Free  Error Free  Error Free  Error Free\n",
              "4   Error Free  Error Free   Defective  Error Free"
            ]
          },
          "metadata": {
            "tags": []
          },
          "execution_count": 11
        }
      ]
    },
    {
      "cell_type": "code",
      "metadata": {
        "id": "lVlhpQKkDnfU",
        "outputId": "79d2d868-fdd8-4fbb-973c-2f8262206101"
      },
      "source": [
        "pd.crosstab(cust_order['Phillippines'],cust_order['Indonesia'])"
      ],
      "execution_count": null,
      "outputs": [
        {
          "output_type": "execute_result",
          "data": {
            "text/html": [
              "<div>\n",
              "<style scoped>\n",
              "    .dataframe tbody tr th:only-of-type {\n",
              "        vertical-align: middle;\n",
              "    }\n",
              "\n",
              "    .dataframe tbody tr th {\n",
              "        vertical-align: top;\n",
              "    }\n",
              "\n",
              "    .dataframe thead th {\n",
              "        text-align: right;\n",
              "    }\n",
              "</style>\n",
              "<table border=\"1\" class=\"dataframe\">\n",
              "  <thead>\n",
              "    <tr style=\"text-align: right;\">\n",
              "      <th>Indonesia</th>\n",
              "      <th>Defective</th>\n",
              "      <th>Error Free</th>\n",
              "    </tr>\n",
              "    <tr>\n",
              "      <th>Phillippines</th>\n",
              "      <th></th>\n",
              "      <th></th>\n",
              "    </tr>\n",
              "  </thead>\n",
              "  <tbody>\n",
              "    <tr>\n",
              "      <th>Defective</th>\n",
              "      <td>2</td>\n",
              "      <td>27</td>\n",
              "    </tr>\n",
              "    <tr>\n",
              "      <th>Error Free</th>\n",
              "      <td>31</td>\n",
              "      <td>240</td>\n",
              "    </tr>\n",
              "  </tbody>\n",
              "</table>\n",
              "</div>"
            ],
            "text/plain": [
              "Indonesia     Defective  Error Free\n",
              "Phillippines                       \n",
              "Defective             2          27\n",
              "Error Free           31         240"
            ]
          },
          "metadata": {
            "tags": []
          },
          "execution_count": 12
        }
      ]
    },
    {
      "cell_type": "code",
      "metadata": {
        "id": "EdC_sbpnDnfV",
        "outputId": "ce0a89ac-0f72-48cf-83dd-0ec33ffffb17"
      },
      "source": [
        "print(cust_order['Phillippines'].value_counts())\n",
        "print(cust_order['Indonesia'].value_counts())\n",
        "print(cust_order['Malta'].value_counts())\n",
        "print(cust_order['India'].value_counts())"
      ],
      "execution_count": null,
      "outputs": [
        {
          "output_type": "stream",
          "text": [
            "Error Free    271\n",
            "Defective      29\n",
            "Name: Phillippines, dtype: int64\n",
            "Error Free    267\n",
            "Defective      33\n",
            "Name: Indonesia, dtype: int64\n",
            "Error Free    269\n",
            "Defective      31\n",
            "Name: Malta, dtype: int64\n",
            "Error Free    280\n",
            "Defective      20\n",
            "Name: India, dtype: int64\n"
          ],
          "name": "stdout"
        }
      ]
    },
    {
      "cell_type": "code",
      "metadata": {
        "id": "JSu78fzhDnfW",
        "outputId": "4f264564-8891-4377-e545-3f215cc0f569"
      },
      "source": [
        "cust_data={'Type':['Error Free','Defective'],\n",
        "           'Phillippines':[271,29],\n",
        "           'Indonesia':[267,33],\n",
        "           'Malta':[269,31],\n",
        "           'India':[280,20]}\n",
        "cust_data1=pd.DataFrame(cust_data,columns=['Type','Phillippines','Indonesia','Malta','India'])\n",
        "cust_data1"
      ],
      "execution_count": null,
      "outputs": [
        {
          "output_type": "execute_result",
          "data": {
            "text/html": [
              "<div>\n",
              "<style scoped>\n",
              "    .dataframe tbody tr th:only-of-type {\n",
              "        vertical-align: middle;\n",
              "    }\n",
              "\n",
              "    .dataframe tbody tr th {\n",
              "        vertical-align: top;\n",
              "    }\n",
              "\n",
              "    .dataframe thead th {\n",
              "        text-align: right;\n",
              "    }\n",
              "</style>\n",
              "<table border=\"1\" class=\"dataframe\">\n",
              "  <thead>\n",
              "    <tr style=\"text-align: right;\">\n",
              "      <th></th>\n",
              "      <th>Type</th>\n",
              "      <th>Phillippines</th>\n",
              "      <th>Indonesia</th>\n",
              "      <th>Malta</th>\n",
              "      <th>India</th>\n",
              "    </tr>\n",
              "  </thead>\n",
              "  <tbody>\n",
              "    <tr>\n",
              "      <th>0</th>\n",
              "      <td>Error Free</td>\n",
              "      <td>271</td>\n",
              "      <td>267</td>\n",
              "      <td>269</td>\n",
              "      <td>280</td>\n",
              "    </tr>\n",
              "    <tr>\n",
              "      <th>1</th>\n",
              "      <td>Defective</td>\n",
              "      <td>29</td>\n",
              "      <td>33</td>\n",
              "      <td>31</td>\n",
              "      <td>20</td>\n",
              "    </tr>\n",
              "  </tbody>\n",
              "</table>\n",
              "</div>"
            ],
            "text/plain": [
              "         Type  Phillippines  Indonesia  Malta  India\n",
              "0  Error Free           271        267    269    280\n",
              "1   Defective            29         33     31     20"
            ]
          },
          "metadata": {
            "tags": []
          },
          "execution_count": 14
        }
      ]
    },
    {
      "cell_type": "code",
      "metadata": {
        "id": "-zcC1DBMDnfX",
        "outputId": "fb6e3e08-eca6-4c33-9c8e-7ef0c9c3e335"
      },
      "source": [
        "#Converting dataframe to an array values\n",
        "cust_arr=cust_data1.values\n",
        "print(cust_arr)"
      ],
      "execution_count": null,
      "outputs": [
        {
          "output_type": "stream",
          "text": [
            "[['Error Free' 271 267 269 280]\n",
            " ['Defective' 29 33 31 20]]\n"
          ],
          "name": "stdout"
        }
      ]
    },
    {
      "cell_type": "code",
      "metadata": {
        "id": "5ODDfH4sDnfY",
        "outputId": "7999ad6c-b048-4d47-dcb9-fd5db6951810"
      },
      "source": [
        "#Extracting numerical values by deleting the object data type Error Free and Defective from first column\n",
        "cust_array=np.delete(cust_arr,0,1)\n",
        "print(cust_array)"
      ],
      "execution_count": null,
      "outputs": [
        {
          "output_type": "stream",
          "text": [
            "[[271 267 269 280]\n",
            " [29 33 31 20]]\n"
          ],
          "name": "stdout"
        }
      ]
    },
    {
      "cell_type": "markdown",
      "metadata": {
        "id": "Fo-H1NjiDnfZ"
      },
      "source": [
        "## Chi-square test\n",
        "* Null hypothesis-Defective % do not vary among the centres\n",
        "* Alternate=Defective % varies"
      ]
    },
    {
      "cell_type": "code",
      "metadata": {
        "id": "RH6M8T5aDnfZ",
        "outputId": "a23deb14-0431-4255-e0dd-ddf5159ecdb3"
      },
      "source": [
        "from scipy.stats import chi2_contingency\n",
        "chi2_contingency(cust_array)"
      ],
      "execution_count": null,
      "outputs": [
        {
          "output_type": "execute_result",
          "data": {
            "text/plain": [
              "(3.8589606858203545,\n",
              " 0.2771020991233144,\n",
              " 3,\n",
              " array([[271.75, 271.75, 271.75, 271.75],\n",
              "        [ 28.25,  28.25,  28.25,  28.25]]))"
            ]
          },
          "metadata": {
            "tags": []
          },
          "execution_count": 17
        }
      ]
    },
    {
      "cell_type": "markdown",
      "metadata": {
        "id": "b8eYwsHvDnfc"
      },
      "source": [
        "* **0.27>0.05, Therefore the defective% remains same**"
      ]
    },
    {
      "cell_type": "code",
      "metadata": {
        "id": "MKn7qK2vDnfc"
      },
      "source": [
        ""
      ],
      "execution_count": null,
      "outputs": []
    }
  ]
}
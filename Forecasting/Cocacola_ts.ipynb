{
  "nbformat": 4,
  "nbformat_minor": 0,
  "metadata": {
    "kernelspec": {
      "display_name": "Python 3",
      "language": "python",
      "name": "python3"
    },
    "language_info": {
      "codemirror_mode": {
        "name": "ipython",
        "version": 3
      },
      "file_extension": ".py",
      "mimetype": "text/x-python",
      "name": "python",
      "nbconvert_exporter": "python",
      "pygments_lexer": "ipython3",
      "version": "3.6.4"
    },
    "colab": {
      "name": "Cocacola_ts.ipynb",
      "provenance": []
    }
  },
  "cells": [
    {
      "cell_type": "code",
      "metadata": {
        "colab": {
          "base_uri": "https://localhost:8080/"
        },
        "id": "pMbVFI9s0qRh",
        "outputId": "abb66c86-b312-4c59-df7a-08105823da42"
      },
      "source": [
        "#importing dependencies\n",
        "import pandas as pd\n",
        "import numpy as np\n",
        "import matplotlib.pyplot as plt\n",
        "from pandas.plotting import lag_plot\n",
        "from statsmodels.graphics.tsaplots import plot_acf\n",
        "from pandas import datetime\n",
        "import seaborn as sns"
      ],
      "execution_count": 2,
      "outputs": [
        {
          "output_type": "stream",
          "text": [
            "/usr/local/lib/python3.7/dist-packages/ipykernel_launcher.py:7: FutureWarning: The pandas.datetime class is deprecated and will be removed from pandas in a future version. Import from datetime module instead.\n",
            "  import sys\n"
          ],
          "name": "stderr"
        }
      ]
    },
    {
      "cell_type": "code",
      "metadata": {
        "scrolled": true,
        "colab": {
          "base_uri": "https://localhost:8080/",
          "height": 1000
        },
        "id": "0I9hqX_-0qRp",
        "outputId": "20ea8ad9-bedd-40d3-c768-2887861f9da3"
      },
      "source": [
        "#Load the dataset\n",
        "cocacola=pd.read_excel(\"/content/CocaCola_Sales_Rawdata.xlsx\")\n",
        "cocacola"
      ],
      "execution_count": 3,
      "outputs": [
        {
          "output_type": "execute_result",
          "data": {
            "text/html": [
              "<div>\n",
              "<style scoped>\n",
              "    .dataframe tbody tr th:only-of-type {\n",
              "        vertical-align: middle;\n",
              "    }\n",
              "\n",
              "    .dataframe tbody tr th {\n",
              "        vertical-align: top;\n",
              "    }\n",
              "\n",
              "    .dataframe thead th {\n",
              "        text-align: right;\n",
              "    }\n",
              "</style>\n",
              "<table border=\"1\" class=\"dataframe\">\n",
              "  <thead>\n",
              "    <tr style=\"text-align: right;\">\n",
              "      <th></th>\n",
              "      <th>Quarter</th>\n",
              "      <th>Sales</th>\n",
              "    </tr>\n",
              "  </thead>\n",
              "  <tbody>\n",
              "    <tr>\n",
              "      <th>0</th>\n",
              "      <td>Q1_86</td>\n",
              "      <td>1734.827000</td>\n",
              "    </tr>\n",
              "    <tr>\n",
              "      <th>1</th>\n",
              "      <td>Q2_86</td>\n",
              "      <td>2244.960999</td>\n",
              "    </tr>\n",
              "    <tr>\n",
              "      <th>2</th>\n",
              "      <td>Q3_86</td>\n",
              "      <td>2533.804993</td>\n",
              "    </tr>\n",
              "    <tr>\n",
              "      <th>3</th>\n",
              "      <td>Q4_86</td>\n",
              "      <td>2154.962997</td>\n",
              "    </tr>\n",
              "    <tr>\n",
              "      <th>4</th>\n",
              "      <td>Q1_87</td>\n",
              "      <td>1547.818996</td>\n",
              "    </tr>\n",
              "    <tr>\n",
              "      <th>5</th>\n",
              "      <td>Q2_87</td>\n",
              "      <td>2104.411995</td>\n",
              "    </tr>\n",
              "    <tr>\n",
              "      <th>6</th>\n",
              "      <td>Q3_87</td>\n",
              "      <td>2014.362999</td>\n",
              "    </tr>\n",
              "    <tr>\n",
              "      <th>7</th>\n",
              "      <td>Q4_87</td>\n",
              "      <td>1991.746998</td>\n",
              "    </tr>\n",
              "    <tr>\n",
              "      <th>8</th>\n",
              "      <td>Q1_88</td>\n",
              "      <td>1869.049999</td>\n",
              "    </tr>\n",
              "    <tr>\n",
              "      <th>9</th>\n",
              "      <td>Q2_88</td>\n",
              "      <td>2313.631996</td>\n",
              "    </tr>\n",
              "    <tr>\n",
              "      <th>10</th>\n",
              "      <td>Q3_88</td>\n",
              "      <td>2128.320000</td>\n",
              "    </tr>\n",
              "    <tr>\n",
              "      <th>11</th>\n",
              "      <td>Q4_88</td>\n",
              "      <td>2026.828999</td>\n",
              "    </tr>\n",
              "    <tr>\n",
              "      <th>12</th>\n",
              "      <td>Q1_89</td>\n",
              "      <td>1910.603996</td>\n",
              "    </tr>\n",
              "    <tr>\n",
              "      <th>13</th>\n",
              "      <td>Q2_89</td>\n",
              "      <td>2331.164993</td>\n",
              "    </tr>\n",
              "    <tr>\n",
              "      <th>14</th>\n",
              "      <td>Q3_89</td>\n",
              "      <td>2206.549995</td>\n",
              "    </tr>\n",
              "    <tr>\n",
              "      <th>15</th>\n",
              "      <td>Q4_89</td>\n",
              "      <td>2173.967995</td>\n",
              "    </tr>\n",
              "    <tr>\n",
              "      <th>16</th>\n",
              "      <td>Q1_90</td>\n",
              "      <td>2148.278000</td>\n",
              "    </tr>\n",
              "    <tr>\n",
              "      <th>17</th>\n",
              "      <td>Q2_90</td>\n",
              "      <td>2739.307999</td>\n",
              "    </tr>\n",
              "    <tr>\n",
              "      <th>18</th>\n",
              "      <td>Q3_90</td>\n",
              "      <td>2792.753998</td>\n",
              "    </tr>\n",
              "    <tr>\n",
              "      <th>19</th>\n",
              "      <td>Q4_90</td>\n",
              "      <td>2556.009995</td>\n",
              "    </tr>\n",
              "    <tr>\n",
              "      <th>20</th>\n",
              "      <td>Q1_91</td>\n",
              "      <td>2480.973999</td>\n",
              "    </tr>\n",
              "    <tr>\n",
              "      <th>21</th>\n",
              "      <td>Q2_91</td>\n",
              "      <td>3039.522995</td>\n",
              "    </tr>\n",
              "    <tr>\n",
              "      <th>22</th>\n",
              "      <td>Q3_91</td>\n",
              "      <td>3172.115997</td>\n",
              "    </tr>\n",
              "    <tr>\n",
              "      <th>23</th>\n",
              "      <td>Q4_91</td>\n",
              "      <td>2879.000999</td>\n",
              "    </tr>\n",
              "    <tr>\n",
              "      <th>24</th>\n",
              "      <td>Q1_92</td>\n",
              "      <td>2772.000000</td>\n",
              "    </tr>\n",
              "    <tr>\n",
              "      <th>25</th>\n",
              "      <td>Q2_92</td>\n",
              "      <td>3550.000000</td>\n",
              "    </tr>\n",
              "    <tr>\n",
              "      <th>26</th>\n",
              "      <td>Q3_92</td>\n",
              "      <td>3508.000000</td>\n",
              "    </tr>\n",
              "    <tr>\n",
              "      <th>27</th>\n",
              "      <td>Q4_92</td>\n",
              "      <td>3243.859993</td>\n",
              "    </tr>\n",
              "    <tr>\n",
              "      <th>28</th>\n",
              "      <td>Q1_93</td>\n",
              "      <td>3056.000000</td>\n",
              "    </tr>\n",
              "    <tr>\n",
              "      <th>29</th>\n",
              "      <td>Q2_93</td>\n",
              "      <td>3899.000000</td>\n",
              "    </tr>\n",
              "    <tr>\n",
              "      <th>30</th>\n",
              "      <td>Q3_93</td>\n",
              "      <td>3629.000000</td>\n",
              "    </tr>\n",
              "    <tr>\n",
              "      <th>31</th>\n",
              "      <td>Q4_93</td>\n",
              "      <td>3373.000000</td>\n",
              "    </tr>\n",
              "    <tr>\n",
              "      <th>32</th>\n",
              "      <td>Q1_94</td>\n",
              "      <td>3352.000000</td>\n",
              "    </tr>\n",
              "    <tr>\n",
              "      <th>33</th>\n",
              "      <td>Q2_94</td>\n",
              "      <td>4342.000000</td>\n",
              "    </tr>\n",
              "    <tr>\n",
              "      <th>34</th>\n",
              "      <td>Q3_94</td>\n",
              "      <td>4461.000000</td>\n",
              "    </tr>\n",
              "    <tr>\n",
              "      <th>35</th>\n",
              "      <td>Q4_94</td>\n",
              "      <td>4017.000000</td>\n",
              "    </tr>\n",
              "    <tr>\n",
              "      <th>36</th>\n",
              "      <td>Q1_95</td>\n",
              "      <td>3854.000000</td>\n",
              "    </tr>\n",
              "    <tr>\n",
              "      <th>37</th>\n",
              "      <td>Q2_95</td>\n",
              "      <td>4936.000000</td>\n",
              "    </tr>\n",
              "    <tr>\n",
              "      <th>38</th>\n",
              "      <td>Q3_95</td>\n",
              "      <td>4895.000000</td>\n",
              "    </tr>\n",
              "    <tr>\n",
              "      <th>39</th>\n",
              "      <td>Q4_95</td>\n",
              "      <td>4333.000000</td>\n",
              "    </tr>\n",
              "    <tr>\n",
              "      <th>40</th>\n",
              "      <td>Q1_96</td>\n",
              "      <td>4194.000000</td>\n",
              "    </tr>\n",
              "    <tr>\n",
              "      <th>41</th>\n",
              "      <td>Q2_96</td>\n",
              "      <td>5253.000000</td>\n",
              "    </tr>\n",
              "  </tbody>\n",
              "</table>\n",
              "</div>"
            ],
            "text/plain": [
              "   Quarter        Sales\n",
              "0    Q1_86  1734.827000\n",
              "1    Q2_86  2244.960999\n",
              "2    Q3_86  2533.804993\n",
              "3    Q4_86  2154.962997\n",
              "4    Q1_87  1547.818996\n",
              "5    Q2_87  2104.411995\n",
              "6    Q3_87  2014.362999\n",
              "7    Q4_87  1991.746998\n",
              "8    Q1_88  1869.049999\n",
              "9    Q2_88  2313.631996\n",
              "10   Q3_88  2128.320000\n",
              "11   Q4_88  2026.828999\n",
              "12   Q1_89  1910.603996\n",
              "13   Q2_89  2331.164993\n",
              "14   Q3_89  2206.549995\n",
              "15   Q4_89  2173.967995\n",
              "16   Q1_90  2148.278000\n",
              "17   Q2_90  2739.307999\n",
              "18   Q3_90  2792.753998\n",
              "19   Q4_90  2556.009995\n",
              "20   Q1_91  2480.973999\n",
              "21   Q2_91  3039.522995\n",
              "22   Q3_91  3172.115997\n",
              "23   Q4_91  2879.000999\n",
              "24   Q1_92  2772.000000\n",
              "25   Q2_92  3550.000000\n",
              "26   Q3_92  3508.000000\n",
              "27   Q4_92  3243.859993\n",
              "28   Q1_93  3056.000000\n",
              "29   Q2_93  3899.000000\n",
              "30   Q3_93  3629.000000\n",
              "31   Q4_93  3373.000000\n",
              "32   Q1_94  3352.000000\n",
              "33   Q2_94  4342.000000\n",
              "34   Q3_94  4461.000000\n",
              "35   Q4_94  4017.000000\n",
              "36   Q1_95  3854.000000\n",
              "37   Q2_95  4936.000000\n",
              "38   Q3_95  4895.000000\n",
              "39   Q4_95  4333.000000\n",
              "40   Q1_96  4194.000000\n",
              "41   Q2_96  5253.000000"
            ]
          },
          "metadata": {
            "tags": []
          },
          "execution_count": 3
        }
      ]
    },
    {
      "cell_type": "markdown",
      "metadata": {
        "id": "MjnCUMyw1jF2"
      },
      "source": [
        "We have 42 quarters depicting  the sales of cocacola from 10 years(1986-1996)."
      ]
    },
    {
      "cell_type": "code",
      "metadata": {
        "colab": {
          "base_uri": "https://localhost:8080/"
        },
        "id": "HChnw2xw0qRr",
        "outputId": "62330e55-98a1-46c6-b122-be2519bab64b"
      },
      "source": [
        "cocacola.dtypes"
      ],
      "execution_count": 4,
      "outputs": [
        {
          "output_type": "execute_result",
          "data": {
            "text/plain": [
              "Quarter     object\n",
              "Sales      float64\n",
              "dtype: object"
            ]
          },
          "metadata": {
            "tags": []
          },
          "execution_count": 4
        }
      ]
    },
    {
      "cell_type": "markdown",
      "metadata": {
        "id": "pXEm7Sy91ye9"
      },
      "source": [
        "We need to convert Quarter object type into Date datetime type."
      ]
    },
    {
      "cell_type": "code",
      "metadata": {
        "colab": {
          "base_uri": "https://localhost:8080/",
          "height": 283
        },
        "id": "ylKFjxU_0qRv",
        "outputId": "b6071a0c-be61-4312-a456-78cfce40d54f"
      },
      "source": [
        "cocacola.plot()"
      ],
      "execution_count": 5,
      "outputs": [
        {
          "output_type": "execute_result",
          "data": {
            "text/plain": [
              "<matplotlib.axes._subplots.AxesSubplot at 0x7fa1762adf10>"
            ]
          },
          "metadata": {
            "tags": []
          },
          "execution_count": 5
        },
        {
          "output_type": "display_data",
          "data": {
            "image/png": "[encoded data removed]",
            "text/plain": [
              "<Figure size 432x288 with 1 Axes>"
            ]
          },
          "metadata": {
            "tags": [],
            "needs_background": "light"
          }
        }
      ]
    },
    {
      "cell_type": "markdown",
      "metadata": {
        "id": "lPV2J36b151y"
      },
      "source": [
        "The sales of cocacola is being increased continuously every year. The trend is positive and upwards."
      ]
    },
    {
      "cell_type": "code",
      "metadata": {
        "id": "416dcpuo0qRw"
      },
      "source": [
        "#Covert Quarter to Date format (YYYY-MM-DD)\n",
        "cocacola['date'] = pd.to_datetime('19'+cocacola['Quarter'].str[-2:] + cocacola['Quarter'].str[:2])"
      ],
      "execution_count": 6,
      "outputs": []
    },
    {
      "cell_type": "code",
      "metadata": {
        "colab": {
          "base_uri": "https://localhost:8080/",
          "height": 205
        },
        "id": "zCjxg7C90qRx",
        "outputId": "fee9f2a6-0c46-47d3-f256-f79430376af5"
      },
      "source": [
        "cocacola.head()"
      ],
      "execution_count": 7,
      "outputs": [
        {
          "output_type": "execute_result",
          "data": {
            "text/html": [
              "<div>\n",
              "<style scoped>\n",
              "    .dataframe tbody tr th:only-of-type {\n",
              "        vertical-align: middle;\n",
              "    }\n",
              "\n",
              "    .dataframe tbody tr th {\n",
              "        vertical-align: top;\n",
              "    }\n",
              "\n",
              "    .dataframe thead th {\n",
              "        text-align: right;\n",
              "    }\n",
              "</style>\n",
              "<table border=\"1\" class=\"dataframe\">\n",
              "  <thead>\n",
              "    <tr style=\"text-align: right;\">\n",
              "      <th></th>\n",
              "      <th>Quarter</th>\n",
              "      <th>Sales</th>\n",
              "      <th>date</th>\n",
              "    </tr>\n",
              "  </thead>\n",
              "  <tbody>\n",
              "    <tr>\n",
              "      <th>0</th>\n",
              "      <td>Q1_86</td>\n",
              "      <td>1734.827000</td>\n",
              "      <td>1986-01-01</td>\n",
              "    </tr>\n",
              "    <tr>\n",
              "      <th>1</th>\n",
              "      <td>Q2_86</td>\n",
              "      <td>2244.960999</td>\n",
              "      <td>1986-04-01</td>\n",
              "    </tr>\n",
              "    <tr>\n",
              "      <th>2</th>\n",
              "      <td>Q3_86</td>\n",
              "      <td>2533.804993</td>\n",
              "      <td>1986-07-01</td>\n",
              "    </tr>\n",
              "    <tr>\n",
              "      <th>3</th>\n",
              "      <td>Q4_86</td>\n",
              "      <td>2154.962997</td>\n",
              "      <td>1986-10-01</td>\n",
              "    </tr>\n",
              "    <tr>\n",
              "      <th>4</th>\n",
              "      <td>Q1_87</td>\n",
              "      <td>1547.818996</td>\n",
              "      <td>1987-01-01</td>\n",
              "    </tr>\n",
              "  </tbody>\n",
              "</table>\n",
              "</div>"
            ],
            "text/plain": [
              "  Quarter        Sales       date\n",
              "0   Q1_86  1734.827000 1986-01-01\n",
              "1   Q2_86  2244.960999 1986-04-01\n",
              "2   Q3_86  2533.804993 1986-07-01\n",
              "3   Q4_86  2154.962997 1986-10-01\n",
              "4   Q1_87  1547.818996 1987-01-01"
            ]
          },
          "metadata": {
            "tags": []
          },
          "execution_count": 7
        }
      ]
    },
    {
      "cell_type": "code",
      "metadata": {
        "id": "mMbTQHhc0qRy"
      },
      "source": [
        "#Drop Quarter column\n",
        "cocacola=cocacola.drop(['Quarter'],axis=1)"
      ],
      "execution_count": 9,
      "outputs": []
    },
    {
      "cell_type": "code",
      "metadata": {
        "colab": {
          "base_uri": "https://localhost:8080/"
        },
        "id": "wRfBF2Ud0qR0",
        "outputId": "4ae60a18-42f7-467c-f56a-a66b31affeac"
      },
      "source": [
        "cocacola.dtypes"
      ],
      "execution_count": 10,
      "outputs": [
        {
          "output_type": "execute_result",
          "data": {
            "text/plain": [
              "Sales           float64\n",
              "date     datetime64[ns]\n",
              "dtype: object"
            ]
          },
          "metadata": {
            "tags": []
          },
          "execution_count": 10
        }
      ]
    },
    {
      "cell_type": "code",
      "metadata": {
        "id": "BXM7NwVz0qR3"
      },
      "source": [
        "cocacola=cocacola.set_index(['date'])"
      ],
      "execution_count": 11,
      "outputs": []
    },
    {
      "cell_type": "code",
      "metadata": {
        "colab": {
          "base_uri": "https://localhost:8080/",
          "height": 236
        },
        "id": "bQFINrTN0qR3",
        "outputId": "d6a8bf83-6f1a-40b4-8469-abfea2a0b628"
      },
      "source": [
        "cocacola.head()"
      ],
      "execution_count": 12,
      "outputs": [
        {
          "output_type": "execute_result",
          "data": {
            "text/html": [
              "<div>\n",
              "<style scoped>\n",
              "    .dataframe tbody tr th:only-of-type {\n",
              "        vertical-align: middle;\n",
              "    }\n",
              "\n",
              "    .dataframe tbody tr th {\n",
              "        vertical-align: top;\n",
              "    }\n",
              "\n",
              "    .dataframe thead th {\n",
              "        text-align: right;\n",
              "    }\n",
              "</style>\n",
              "<table border=\"1\" class=\"dataframe\">\n",
              "  <thead>\n",
              "    <tr style=\"text-align: right;\">\n",
              "      <th></th>\n",
              "      <th>Sales</th>\n",
              "    </tr>\n",
              "    <tr>\n",
              "      <th>date</th>\n",
              "      <th></th>\n",
              "    </tr>\n",
              "  </thead>\n",
              "  <tbody>\n",
              "    <tr>\n",
              "      <th>1986-01-01</th>\n",
              "      <td>1734.827000</td>\n",
              "    </tr>\n",
              "    <tr>\n",
              "      <th>1986-04-01</th>\n",
              "      <td>2244.960999</td>\n",
              "    </tr>\n",
              "    <tr>\n",
              "      <th>1986-07-01</th>\n",
              "      <td>2533.804993</td>\n",
              "    </tr>\n",
              "    <tr>\n",
              "      <th>1986-10-01</th>\n",
              "      <td>2154.962997</td>\n",
              "    </tr>\n",
              "    <tr>\n",
              "      <th>1987-01-01</th>\n",
              "      <td>1547.818996</td>\n",
              "    </tr>\n",
              "  </tbody>\n",
              "</table>\n",
              "</div>"
            ],
            "text/plain": [
              "                  Sales\n",
              "date                   \n",
              "1986-01-01  1734.827000\n",
              "1986-04-01  2244.960999\n",
              "1986-07-01  2533.804993\n",
              "1986-10-01  2154.962997\n",
              "1987-01-01  1547.818996"
            ]
          },
          "metadata": {
            "tags": []
          },
          "execution_count": 12
        }
      ]
    },
    {
      "cell_type": "markdown",
      "metadata": {
        "id": "MsbzAZDi3Bm6"
      },
      "source": [
        "I will upsample the data from quarters to months to get more number of data points for better interpretation"
      ]
    },
    {
      "cell_type": "code",
      "metadata": {
        "id": "ooyAoKq60qR4"
      },
      "source": [
        "upsampled=cocacola.resample('M').mean()"
      ],
      "execution_count": 13,
      "outputs": []
    },
    {
      "cell_type": "code",
      "metadata": {
        "colab": {
          "base_uri": "https://localhost:8080/",
          "height": 236
        },
        "id": "m4Qdk1840qR4",
        "outputId": "6995d555-0438-49d2-c4ae-7f77faa84e7e"
      },
      "source": [
        "upsampled.head()"
      ],
      "execution_count": 14,
      "outputs": [
        {
          "output_type": "execute_result",
          "data": {
            "text/html": [
              "<div>\n",
              "<style scoped>\n",
              "    .dataframe tbody tr th:only-of-type {\n",
              "        vertical-align: middle;\n",
              "    }\n",
              "\n",
              "    .dataframe tbody tr th {\n",
              "        vertical-align: top;\n",
              "    }\n",
              "\n",
              "    .dataframe thead th {\n",
              "        text-align: right;\n",
              "    }\n",
              "</style>\n",
              "<table border=\"1\" class=\"dataframe\">\n",
              "  <thead>\n",
              "    <tr style=\"text-align: right;\">\n",
              "      <th></th>\n",
              "      <th>Sales</th>\n",
              "    </tr>\n",
              "    <tr>\n",
              "      <th>date</th>\n",
              "      <th></th>\n",
              "    </tr>\n",
              "  </thead>\n",
              "  <tbody>\n",
              "    <tr>\n",
              "      <th>1986-01-31</th>\n",
              "      <td>1734.827000</td>\n",
              "    </tr>\n",
              "    <tr>\n",
              "      <th>1986-02-28</th>\n",
              "      <td>NaN</td>\n",
              "    </tr>\n",
              "    <tr>\n",
              "      <th>1986-03-31</th>\n",
              "      <td>NaN</td>\n",
              "    </tr>\n",
              "    <tr>\n",
              "      <th>1986-04-30</th>\n",
              "      <td>2244.960999</td>\n",
              "    </tr>\n",
              "    <tr>\n",
              "      <th>1986-05-31</th>\n",
              "      <td>NaN</td>\n",
              "    </tr>\n",
              "  </tbody>\n",
              "</table>\n",
              "</div>"
            ],
            "text/plain": [
              "                  Sales\n",
              "date                   \n",
              "1986-01-31  1734.827000\n",
              "1986-02-28          NaN\n",
              "1986-03-31          NaN\n",
              "1986-04-30  2244.960999\n",
              "1986-05-31          NaN"
            ]
          },
          "metadata": {
            "tags": []
          },
          "execution_count": 14
        }
      ]
    },
    {
      "cell_type": "markdown",
      "metadata": {
        "id": "Slt-nfos3SVK"
      },
      "source": [
        "Fill the nan values by Interpolation technique"
      ]
    },
    {
      "cell_type": "code",
      "metadata": {
        "colab": {
          "base_uri": "https://localhost:8080/",
          "height": 236
        },
        "id": "7yX6i57T0qR4",
        "outputId": "47c5ce47-4cbb-46c2-e080-98d540368a75"
      },
      "source": [
        "interpolated=upsampled.interpolate(method='linear')\n",
        "interpolated.head()"
      ],
      "execution_count": 15,
      "outputs": [
        {
          "output_type": "execute_result",
          "data": {
            "text/html": [
              "<div>\n",
              "<style scoped>\n",
              "    .dataframe tbody tr th:only-of-type {\n",
              "        vertical-align: middle;\n",
              "    }\n",
              "\n",
              "    .dataframe tbody tr th {\n",
              "        vertical-align: top;\n",
              "    }\n",
              "\n",
              "    .dataframe thead th {\n",
              "        text-align: right;\n",
              "    }\n",
              "</style>\n",
              "<table border=\"1\" class=\"dataframe\">\n",
              "  <thead>\n",
              "    <tr style=\"text-align: right;\">\n",
              "      <th></th>\n",
              "      <th>Sales</th>\n",
              "    </tr>\n",
              "    <tr>\n",
              "      <th>date</th>\n",
              "      <th></th>\n",
              "    </tr>\n",
              "  </thead>\n",
              "  <tbody>\n",
              "    <tr>\n",
              "      <th>1986-01-31</th>\n",
              "      <td>1734.827000</td>\n",
              "    </tr>\n",
              "    <tr>\n",
              "      <th>1986-02-28</th>\n",
              "      <td>1904.871666</td>\n",
              "    </tr>\n",
              "    <tr>\n",
              "      <th>1986-03-31</th>\n",
              "      <td>2074.916332</td>\n",
              "    </tr>\n",
              "    <tr>\n",
              "      <th>1986-04-30</th>\n",
              "      <td>2244.960999</td>\n",
              "    </tr>\n",
              "    <tr>\n",
              "      <th>1986-05-31</th>\n",
              "      <td>2341.242330</td>\n",
              "    </tr>\n",
              "  </tbody>\n",
              "</table>\n",
              "</div>"
            ],
            "text/plain": [
              "                  Sales\n",
              "date                   \n",
              "1986-01-31  1734.827000\n",
              "1986-02-28  1904.871666\n",
              "1986-03-31  2074.916332\n",
              "1986-04-30  2244.960999\n",
              "1986-05-31  2341.242330"
            ]
          },
          "metadata": {
            "tags": []
          },
          "execution_count": 15
        }
      ]
    },
    {
      "cell_type": "code",
      "metadata": {
        "colab": {
          "base_uri": "https://localhost:8080/",
          "height": 297
        },
        "id": "u5_hjA-i0qR5",
        "outputId": "59e5df7b-2772-4a22-d294-262b417df5e0"
      },
      "source": [
        "#Make a copy of the dataset\n",
        "series=interpolated.copy()\n",
        "series.plot()"
      ],
      "execution_count": 16,
      "outputs": [
        {
          "output_type": "execute_result",
          "data": {
            "text/plain": [
              "<matplotlib.axes._subplots.AxesSubplot at 0x7fa174fc6850>"
            ]
          },
          "metadata": {
            "tags": []
          },
          "execution_count": 16
        },
        {
          "output_type": "display_data",
          "data": {
            "image/png": "[encoded data removed]",
            "text/plain": [
              "<Figure size 432x288 with 1 Axes>"
            ]
          },
          "metadata": {
            "tags": [],
            "needs_background": "light"
          }
        }
      ]
    },
    {
      "cell_type": "markdown",
      "metadata": {
        "id": "1Zex6BQB6CG1"
      },
      "source": [
        "We see that there is more sales in the mid of the year and gradually decreases for that year."
      ]
    },
    {
      "cell_type": "code",
      "metadata": {
        "id": "3dtGxKhT0qR6",
        "outputId": "c43360b4-108a-4998-a34b-8c04bd97d895"
      },
      "source": [
        "series.shape"
      ],
      "execution_count": null,
      "outputs": [
        {
          "output_type": "execute_result",
          "data": {
            "text/plain": [
              "(124, 1)"
            ]
          },
          "metadata": {
            "tags": []
          },
          "execution_count": 24
        }
      ]
    },
    {
      "cell_type": "markdown",
      "metadata": {
        "id": "6HZg2tzG6TSM"
      },
      "source": [
        "There are 124 months in our dataset"
      ]
    },
    {
      "cell_type": "code",
      "metadata": {
        "colab": {
          "base_uri": "https://localhost:8080/",
          "height": 317
        },
        "id": "6mTYXzSe0qR6",
        "outputId": "cdf19827-0b5a-4f62-b151-6907ba961dfe"
      },
      "source": [
        "#Histogram\n",
        "series.hist()"
      ],
      "execution_count": 19,
      "outputs": [
        {
          "output_type": "execute_result",
          "data": {
            "text/plain": [
              "array([[<matplotlib.axes._subplots.AxesSubplot object at 0x7fa172db4ad0>]],\n",
              "      dtype=object)"
            ]
          },
          "metadata": {
            "tags": []
          },
          "execution_count": 19
        },
        {
          "output_type": "display_data",
          "data": {
            "image/png": "[encoded data removed]",
            "text/plain": [
              "<Figure size 432x288 with 1 Axes>"
            ]
          },
          "metadata": {
            "tags": [],
            "needs_background": "light"
          }
        }
      ]
    },
    {
      "cell_type": "code",
      "metadata": {
        "colab": {
          "base_uri": "https://localhost:8080/",
          "height": 283
        },
        "id": "jVsSt4rc0qR6",
        "outputId": "33e17eea-e247-4cc3-9206-b20d428cd901"
      },
      "source": [
        "#Density plot\n",
        "series.plot(kind='kde')"
      ],
      "execution_count": 20,
      "outputs": [
        {
          "output_type": "execute_result",
          "data": {
            "text/plain": [
              "<matplotlib.axes._subplots.AxesSubplot at 0x7fa172cd73d0>"
            ]
          },
          "metadata": {
            "tags": []
          },
          "execution_count": 20
        },
        {
          "output_type": "display_data",
          "data": {
            "image/png": "[encoded data removed]",
            "text/plain": [
              "<Figure size 432x288 with 1 Axes>"
            ]
          },
          "metadata": {
            "tags": [],
            "needs_background": "light"
          }
        }
      ]
    },
    {
      "cell_type": "code",
      "metadata": {
        "colab": {
          "base_uri": "https://localhost:8080/",
          "height": 279
        },
        "id": "BJNHTE7k0qR6",
        "outputId": "3c67e25c-5103-467d-d631-bcd81d45964d"
      },
      "source": [
        "#lag plot\n",
        "lag_plot(series)\n",
        "plt.show()"
      ],
      "execution_count": 21,
      "outputs": [
        {
          "output_type": "display_data",
          "data": {
            "image/png": "[encoded data removed]",
            "text/plain": [
              "<Figure size 432x288 with 1 Axes>"
            ]
          },
          "metadata": {
            "tags": [],
            "needs_background": "light"
          }
        }
      ]
    },
    {
      "cell_type": "markdown",
      "metadata": {
        "id": "HjgBd-oUI9m9"
      },
      "source": [
        "We see that the sales of a year is strongly correlated with that of its previouys year sales."
      ]
    },
    {
      "cell_type": "code",
      "metadata": {
        "scrolled": true,
        "colab": {
          "base_uri": "https://localhost:8080/",
          "height": 281
        },
        "id": "GxK8krbf0qR7",
        "outputId": "0d8abc5d-b972-4bd9-e48f-b37d2898762a"
      },
      "source": [
        "plot_acf(series,lags=30)\n",
        "plt.show()"
      ],
      "execution_count": 22,
      "outputs": [
        {
          "output_type": "display_data",
          "data": {
            "image/png": "[encoded data removed]",
            "text/plain": [
              "<Figure size 432x288 with 1 Axes>"
            ]
          },
          "metadata": {
            "tags": [],
            "needs_background": "light"
          }
        }
      ]
    },
    {
      "cell_type": "markdown",
      "metadata": {
        "id": "4YnMlzpEJPgv"
      },
      "source": [
        "The correlation of sales is significant upto 12 years previous records and insignificant after 12 years."
      ]
    },
    {
      "cell_type": "markdown",
      "metadata": {
        "id": "rSG_Vo9c65rX"
      },
      "source": [
        "Next, We shall reset the index for further pre processing."
      ]
    },
    {
      "cell_type": "code",
      "metadata": {
        "id": "VzHe9nxe0qR8"
      },
      "source": [
        "series.reset_index(inplace=True)"
      ],
      "execution_count": 23,
      "outputs": []
    },
    {
      "cell_type": "code",
      "metadata": {
        "colab": {
          "base_uri": "https://localhost:8080/",
          "height": 205
        },
        "id": "akH7H7Tr0qR9",
        "outputId": "f8421f65-56c0-42f4-9ee2-86cf7607c622"
      },
      "source": [
        "series.head()"
      ],
      "execution_count": 24,
      "outputs": [
        {
          "output_type": "execute_result",
          "data": {
            "text/html": [
              "<div>\n",
              "<style scoped>\n",
              "    .dataframe tbody tr th:only-of-type {\n",
              "        vertical-align: middle;\n",
              "    }\n",
              "\n",
              "    .dataframe tbody tr th {\n",
              "        vertical-align: top;\n",
              "    }\n",
              "\n",
              "    .dataframe thead th {\n",
              "        text-align: right;\n",
              "    }\n",
              "</style>\n",
              "<table border=\"1\" class=\"dataframe\">\n",
              "  <thead>\n",
              "    <tr style=\"text-align: right;\">\n",
              "      <th></th>\n",
              "      <th>date</th>\n",
              "      <th>Sales</th>\n",
              "    </tr>\n",
              "  </thead>\n",
              "  <tbody>\n",
              "    <tr>\n",
              "      <th>0</th>\n",
              "      <td>1986-01-31</td>\n",
              "      <td>1734.827000</td>\n",
              "    </tr>\n",
              "    <tr>\n",
              "      <th>1</th>\n",
              "      <td>1986-02-28</td>\n",
              "      <td>1904.871666</td>\n",
              "    </tr>\n",
              "    <tr>\n",
              "      <th>2</th>\n",
              "      <td>1986-03-31</td>\n",
              "      <td>2074.916332</td>\n",
              "    </tr>\n",
              "    <tr>\n",
              "      <th>3</th>\n",
              "      <td>1986-04-30</td>\n",
              "      <td>2244.960999</td>\n",
              "    </tr>\n",
              "    <tr>\n",
              "      <th>4</th>\n",
              "      <td>1986-05-31</td>\n",
              "      <td>2341.242330</td>\n",
              "    </tr>\n",
              "  </tbody>\n",
              "</table>\n",
              "</div>"
            ],
            "text/plain": [
              "        date        Sales\n",
              "0 1986-01-31  1734.827000\n",
              "1 1986-02-28  1904.871666\n",
              "2 1986-03-31  2074.916332\n",
              "3 1986-04-30  2244.960999\n",
              "4 1986-05-31  2341.242330"
            ]
          },
          "metadata": {
            "tags": []
          },
          "execution_count": 24
        }
      ]
    },
    {
      "cell_type": "code",
      "metadata": {
        "scrolled": false,
        "id": "nlvIOy9o0qR9"
      },
      "source": [
        "#Let us impute certain data or features for model building\n",
        "series['t']=np.arange(1,125)\n",
        "series['t_squared']=series['t']*series['t']\n",
        "series['Log_sales']=np.log(series['Sales'])\n",
        "series['month']=series.date.dt.strftime('%b')\n",
        "series['year']=series.date.dt.strftime('%Y')\n",
        "\n",
        "month_dummies=pd.DataFrame(pd.get_dummies(series['month']))\n",
        "series=pd.concat([series,month_dummies],axis=1)\n"
      ],
      "execution_count": 25,
      "outputs": []
    },
    {
      "cell_type": "code",
      "metadata": {
        "colab": {
          "base_uri": "https://localhost:8080/",
          "height": 312
        },
        "id": "P5n96Xvx0qR-",
        "outputId": "7ec30c02-d0bb-46e4-8a81-ab6330959307"
      },
      "source": [
        "series.head()"
      ],
      "execution_count": 26,
      "outputs": [
        {
          "output_type": "execute_result",
          "data": {
            "text/html": [
              "<div>\n",
              "<style scoped>\n",
              "    .dataframe tbody tr th:only-of-type {\n",
              "        vertical-align: middle;\n",
              "    }\n",
              "\n",
              "    .dataframe tbody tr th {\n",
              "        vertical-align: top;\n",
              "    }\n",
              "\n",
              "    .dataframe thead th {\n",
              "        text-align: right;\n",
              "    }\n",
              "</style>\n",
              "<table border=\"1\" class=\"dataframe\">\n",
              "  <thead>\n",
              "    <tr style=\"text-align: right;\">\n",
              "      <th></th>\n",
              "      <th>date</th>\n",
              "      <th>Sales</th>\n",
              "      <th>t</th>\n",
              "      <th>t_squared</th>\n",
              "      <th>Log_sales</th>\n",
              "      <th>month</th>\n",
              "      <th>year</th>\n",
              "      <th>Apr</th>\n",
              "      <th>Aug</th>\n",
              "      <th>Dec</th>\n",
              "      <th>Feb</th>\n",
              "      <th>Jan</th>\n",
              "      <th>Jul</th>\n",
              "      <th>Jun</th>\n",
              "      <th>Mar</th>\n",
              "      <th>May</th>\n",
              "      <th>Nov</th>\n",
              "      <th>Oct</th>\n",
              "      <th>Sep</th>\n",
              "    </tr>\n",
              "  </thead>\n",
              "  <tbody>\n",
              "    <tr>\n",
              "      <th>0</th>\n",
              "      <td>1986-01-31</td>\n",
              "      <td>1734.827000</td>\n",
              "      <td>1</td>\n",
              "      <td>1</td>\n",
              "      <td>7.458663</td>\n",
              "      <td>Jan</td>\n",
              "      <td>1986</td>\n",
              "      <td>0</td>\n",
              "      <td>0</td>\n",
              "      <td>0</td>\n",
              "      <td>0</td>\n",
              "      <td>1</td>\n",
              "      <td>0</td>\n",
              "      <td>0</td>\n",
              "      <td>0</td>\n",
              "      <td>0</td>\n",
              "      <td>0</td>\n",
              "      <td>0</td>\n",
              "      <td>0</td>\n",
              "    </tr>\n",
              "    <tr>\n",
              "      <th>1</th>\n",
              "      <td>1986-02-28</td>\n",
              "      <td>1904.871666</td>\n",
              "      <td>2</td>\n",
              "      <td>4</td>\n",
              "      <td>7.552170</td>\n",
              "      <td>Feb</td>\n",
              "      <td>1986</td>\n",
              "      <td>0</td>\n",
              "      <td>0</td>\n",
              "      <td>0</td>\n",
              "      <td>1</td>\n",
              "      <td>0</td>\n",
              "      <td>0</td>\n",
              "      <td>0</td>\n",
              "      <td>0</td>\n",
              "      <td>0</td>\n",
              "      <td>0</td>\n",
              "      <td>0</td>\n",
              "      <td>0</td>\n",
              "    </tr>\n",
              "    <tr>\n",
              "      <th>2</th>\n",
              "      <td>1986-03-31</td>\n",
              "      <td>2074.916332</td>\n",
              "      <td>3</td>\n",
              "      <td>9</td>\n",
              "      <td>7.637676</td>\n",
              "      <td>Mar</td>\n",
              "      <td>1986</td>\n",
              "      <td>0</td>\n",
              "      <td>0</td>\n",
              "      <td>0</td>\n",
              "      <td>0</td>\n",
              "      <td>0</td>\n",
              "      <td>0</td>\n",
              "      <td>0</td>\n",
              "      <td>1</td>\n",
              "      <td>0</td>\n",
              "      <td>0</td>\n",
              "      <td>0</td>\n",
              "      <td>0</td>\n",
              "    </tr>\n",
              "    <tr>\n",
              "      <th>3</th>\n",
              "      <td>1986-04-30</td>\n",
              "      <td>2244.960999</td>\n",
              "      <td>4</td>\n",
              "      <td>16</td>\n",
              "      <td>7.716443</td>\n",
              "      <td>Apr</td>\n",
              "      <td>1986</td>\n",
              "      <td>1</td>\n",
              "      <td>0</td>\n",
              "      <td>0</td>\n",
              "      <td>0</td>\n",
              "      <td>0</td>\n",
              "      <td>0</td>\n",
              "      <td>0</td>\n",
              "      <td>0</td>\n",
              "      <td>0</td>\n",
              "      <td>0</td>\n",
              "      <td>0</td>\n",
              "      <td>0</td>\n",
              "    </tr>\n",
              "    <tr>\n",
              "      <th>4</th>\n",
              "      <td>1986-05-31</td>\n",
              "      <td>2341.242330</td>\n",
              "      <td>5</td>\n",
              "      <td>25</td>\n",
              "      <td>7.758437</td>\n",
              "      <td>May</td>\n",
              "      <td>1986</td>\n",
              "      <td>0</td>\n",
              "      <td>0</td>\n",
              "      <td>0</td>\n",
              "      <td>0</td>\n",
              "      <td>0</td>\n",
              "      <td>0</td>\n",
              "      <td>0</td>\n",
              "      <td>0</td>\n",
              "      <td>1</td>\n",
              "      <td>0</td>\n",
              "      <td>0</td>\n",
              "      <td>0</td>\n",
              "    </tr>\n",
              "  </tbody>\n",
              "</table>\n",
              "</div>"
            ],
            "text/plain": [
              "        date        Sales  t  t_squared  Log_sales  ... Mar May  Nov  Oct  Sep\n",
              "0 1986-01-31  1734.827000  1          1   7.458663  ...   0   0    0    0    0\n",
              "1 1986-02-28  1904.871666  2          4   7.552170  ...   0   0    0    0    0\n",
              "2 1986-03-31  2074.916332  3          9   7.637676  ...   1   0    0    0    0\n",
              "3 1986-04-30  2244.960999  4         16   7.716443  ...   0   0    0    0    0\n",
              "4 1986-05-31  2341.242330  5         25   7.758437  ...   0   1    0    0    0\n",
              "\n",
              "[5 rows x 19 columns]"
            ]
          },
          "metadata": {
            "tags": []
          },
          "execution_count": 26
        }
      ]
    },
    {
      "cell_type": "code",
      "metadata": {
        "colab": {
          "base_uri": "https://localhost:8080/",
          "height": 283
        },
        "id": "KdcBXZ7I0qR_",
        "outputId": "48785365-d382-4b35-cbd9-59993c98e457"
      },
      "source": [
        "series.Sales.plot()"
      ],
      "execution_count": 27,
      "outputs": [
        {
          "output_type": "execute_result",
          "data": {
            "text/plain": [
              "<matplotlib.axes._subplots.AxesSubplot at 0x7fa16a3a8810>"
            ]
          },
          "metadata": {
            "tags": []
          },
          "execution_count": 27
        },
        {
          "output_type": "display_data",
          "data": {
            "image/png": "[encoded data removed]",
            "text/plain": [
              "<Figure size 432x288 with 1 Axes>"
            ]
          },
          "metadata": {
            "tags": [],
            "needs_background": "light"
          }
        }
      ]
    },
    {
      "cell_type": "code",
      "metadata": {
        "colab": {
          "base_uri": "https://localhost:8080/",
          "height": 515
        },
        "id": "pKwAMS-uHuk8",
        "outputId": "40926a53-ce8d-4105-97a4-60c2574d89a2"
      },
      "source": [
        "plt.figure(figsize=(12,8))\n",
        "heatmap_y_month = pd.pivot_table(data=series,values=\"Sales\",index=\"year\",columns=\"month\",aggfunc=\"mean\",fill_value=0)\n",
        "sns.heatmap(heatmap_y_month,annot=True,fmt=\"g\")"
      ],
      "execution_count": 54,
      "outputs": [
        {
          "output_type": "execute_result",
          "data": {
            "text/plain": [
              "<matplotlib.axes._subplots.AxesSubplot at 0x7fa15f34ce50>"
            ]
          },
          "metadata": {
            "tags": []
          },
          "execution_count": 54
        },
        {
          "output_type": "display_data",
          "data": {
            "image/png": "[encoded data removed]",
            "text/plain": [
              "<Figure size 864x576 with 2 Axes>"
            ]
          },
          "metadata": {
            "tags": [],
            "needs_background": "light"
          }
        }
      ]
    },
    {
      "cell_type": "markdown",
      "metadata": {
        "id": "Hc48Z_JSH6SF"
      },
      "source": [
        "There were more sales in April month of 1996. We don't have the sales data for the months after Apr-1996 and hence shows 0."
      ]
    },
    {
      "cell_type": "code",
      "metadata": {
        "colab": {
          "base_uri": "https://localhost:8080/",
          "height": 406
        },
        "id": "r1i1eiZQIZiO",
        "outputId": "37a2f527-dfd4-406c-fb63-7464d48bba4f"
      },
      "source": [
        "# Boxplot for every month\n",
        "plt.figure(figsize=(8,6))\n",
        "plt.subplot(211)\n",
        "sns.boxplot(x=\"month\",y=\"Sales\",data=series)\n",
        "plt.subplot(212)\n",
        "sns.boxplot(x=\"year\",y=\"Sales\",data=series)\n"
      ],
      "execution_count": 55,
      "outputs": [
        {
          "output_type": "execute_result",
          "data": {
            "text/plain": [
              "<matplotlib.axes._subplots.AxesSubplot at 0x7fa15a90da50>"
            ]
          },
          "metadata": {
            "tags": []
          },
          "execution_count": 55
        },
        {
          "output_type": "display_data",
          "data": {
            "image/png": "[encoded data removed]",
            "text/plain": [
              "<Figure size 576x432 with 2 Axes>"
            ]
          },
          "metadata": {
            "tags": [],
            "needs_background": "light"
          }
        }
      ]
    },
    {
      "cell_type": "markdown",
      "metadata": {
        "id": "qGfQfVmpIkKY"
      },
      "source": [
        "More cocacola sales are observed in the month of March and April of every month. The sales have also increased for every year."
      ]
    },
    {
      "cell_type": "code",
      "metadata": {
        "colab": {
          "base_uri": "https://localhost:8080/",
          "height": 243
        },
        "id": "r6X2pz4T0qR_",
        "outputId": "f2ed031d-9913-4353-9d2a-8cce0a7d7e79"
      },
      "source": [
        "import seaborn as sns\n",
        "plt.figure(figsize=(12,3))\n",
        "sns.lineplot(x=\"year\",y=\"Sales\",data=series)"
      ],
      "execution_count": 28,
      "outputs": [
        {
          "output_type": "execute_result",
          "data": {
            "text/plain": [
              "<matplotlib.axes._subplots.AxesSubplot at 0x7fa16a340750>"
            ]
          },
          "metadata": {
            "tags": []
          },
          "execution_count": 28
        },
        {
          "output_type": "display_data",
          "data": {
            "image/png": "[encoded data removed]",
            "text/plain": [
              "<Figure size 864x216 with 1 Axes>"
            ]
          },
          "metadata": {
            "tags": [],
            "needs_background": "light"
          }
        }
      ]
    },
    {
      "cell_type": "markdown",
      "metadata": {
        "id": "u1eWFqTW7kDS"
      },
      "source": [
        "Linear trend in sales"
      ]
    },
    {
      "cell_type": "code",
      "metadata": {
        "id": "keg2vPiM0qR_"
      },
      "source": [
        "#Splitting the data into Train and Test\n",
        "Train = series.head(len(series.date)-12)\n",
        "Test = series.tail(12)"
      ],
      "execution_count": 29,
      "outputs": []
    },
    {
      "cell_type": "code",
      "metadata": {
        "colab": {
          "base_uri": "https://localhost:8080/"
        },
        "id": "v_SbG2Gq0qSA",
        "outputId": "7e5250d8-f3e3-406f-bc22-be4c2d0ac9cf"
      },
      "source": [
        "#Linear model\n",
        "import statsmodels.formula.api as smf\n",
        "lin_model=smf.ols('Sales~t',data=Train).fit()\n",
        "lin_pred=pd.Series(lin_model.predict(pd.DataFrame(Test['t'])))\n",
        "rmse_lin=np.sqrt(np.mean((np.array(Test['Sales'])-np.array(lin_pred))**2))\n",
        "\n",
        "\n",
        "rmse_lin"
      ],
      "execution_count": 30,
      "outputs": [
        {
          "output_type": "execute_result",
          "data": {
            "text/plain": [
              "561.9428078334439"
            ]
          },
          "metadata": {
            "tags": []
          },
          "execution_count": 30
        }
      ]
    },
    {
      "cell_type": "code",
      "metadata": {
        "colab": {
          "base_uri": "https://localhost:8080/"
        },
        "id": "HzaFX7_d0qSA",
        "outputId": "1562fdc3-05a3-41cb-a483-3266bd0e9683"
      },
      "source": [
        "#Exponential model\n",
        "exp_model=smf.ols('Log_sales~t',data=series).fit()\n",
        "exp_pred=pd.Series(exp_model.predict(pd.DataFrame(Test['t'])))\n",
        "rmse_exp=np.sqrt(np.mean((np.array(Test['Sales'])-np.array(exp_pred))**2))\n",
        "\n",
        "rmse_exp"
      ],
      "execution_count": 31,
      "outputs": [
        {
          "output_type": "execute_result",
          "data": {
            "text/plain": [
              "4645.293932753723"
            ]
          },
          "metadata": {
            "tags": []
          },
          "execution_count": 31
        }
      ]
    },
    {
      "cell_type": "code",
      "metadata": {
        "colab": {
          "base_uri": "https://localhost:8080/"
        },
        "id": "mYGYmVNi0qSB",
        "outputId": "20810756-dcc2-414d-c64a-a38cfb04a1d8"
      },
      "source": [
        "#Quadratic model \n",
        "\n",
        "Quad = smf.ols('Sales~t+t_squared',data=Train).fit()\n",
        "pred_Quad = pd.Series(Quad.predict(Test[[\"t\",\"t_squared\"]]))\n",
        "rmse_Quad = np.sqrt(np.mean((np.array(Test['Sales'])-np.array(pred_Quad))**2))\n",
        "\n",
        "rmse_Quad"
      ],
      "execution_count": 33,
      "outputs": [
        {
          "output_type": "execute_result",
          "data": {
            "text/plain": [
              "416.12404736256167"
            ]
          },
          "metadata": {
            "tags": []
          },
          "execution_count": 33
        }
      ]
    },
    {
      "cell_type": "code",
      "metadata": {
        "colab": {
          "base_uri": "https://localhost:8080/"
        },
        "id": "Uaeo7NSA0qSB",
        "outputId": "8fe58c10-744d-491b-fee9-0624ea040c32"
      },
      "source": [
        "#Additive seasonality \n",
        "\n",
        "add_sea = smf.ols('Sales~Jan+Feb+Mar+Apr+May+Jun+Jul+Aug+Sep+Oct+Nov',data=Train).fit()\n",
        "pred_add_sea = pd.Series(add_sea.predict(Test[['Jan','Feb','Mar','Apr','May','Jun','Jul','Aug','Sep','Oct','Nov']]))\n",
        "rmse_add_sea = np.sqrt(np.mean((np.array(Test['Sales'])-np.array(pred_add_sea))**2))\n",
        "\n",
        "rmse_add_sea"
      ],
      "execution_count": 34,
      "outputs": [
        {
          "output_type": "execute_result",
          "data": {
            "text/plain": [
              "1840.3042900245844"
            ]
          },
          "metadata": {
            "tags": []
          },
          "execution_count": 34
        }
      ]
    },
    {
      "cell_type": "code",
      "metadata": {
        "colab": {
          "base_uri": "https://localhost:8080/"
        },
        "id": "eq4_9D0b8M3E",
        "outputId": "2a45995b-8044-431d-a12d-327c27f1d61e"
      },
      "source": [
        "#Additive Seasonality with Linear trend\n",
        "\n",
        "add_sea_lin = smf.ols('Sales~t+Jan+Feb+Mar+Apr+May+Jun+Jul+Aug+Sep+Oct+Nov',data=Train).fit()\n",
        "pred_add_sea_lin = pd.Series(add_sea_lin.predict(Test[['Jan','Feb','Mar','Apr','May','Jun','Jul','Aug','Sep','Oct','Nov','t']]))\n",
        "rmse_add_sea_lin = np.sqrt(np.mean((np.array(Test['Sales'])-np.array(pred_add_sea_lin))**2))\n",
        "\n",
        "\n",
        "rmse_add_sea_lin"
      ],
      "execution_count": 39,
      "outputs": [
        {
          "output_type": "execute_result",
          "data": {
            "text/plain": [
              "461.566374212705"
            ]
          },
          "metadata": {
            "tags": []
          },
          "execution_count": 39
        }
      ]
    },
    {
      "cell_type": "code",
      "metadata": {
        "colab": {
          "base_uri": "https://localhost:8080/"
        },
        "id": "JleLn4om0qSC",
        "outputId": "2700dd8e-b573-43bd-b5f4-98f4d412906f"
      },
      "source": [
        "#Additive Seasonality with Quadratic trend\n",
        "\n",
        "add_sea_Quad = smf.ols('Sales~t+t_squared+Jan+Feb+Mar+Apr+May+Jun+Jul+Aug+Sep+Oct+Nov',data=Train).fit()\n",
        "pred_add_sea_quad = pd.Series(add_sea_Quad.predict(Test[['Jan','Feb','Mar','Apr','May','Jun','Jul','Aug','Sep','Oct','Nov','t','t_squared']]))\n",
        "rmse_add_sea_quad = np.sqrt(np.mean((np.array(Test['Sales'])-np.array(pred_add_sea_quad))**2))\n",
        "\n",
        "\n",
        "rmse_add_sea_quad"
      ],
      "execution_count": 40,
      "outputs": [
        {
          "output_type": "execute_result",
          "data": {
            "text/plain": [
              "271.9062333127314"
            ]
          },
          "metadata": {
            "tags": []
          },
          "execution_count": 40
        }
      ]
    },
    {
      "cell_type": "code",
      "metadata": {
        "colab": {
          "base_uri": "https://localhost:8080/"
        },
        "id": "dIre-I0F0qSC",
        "outputId": "fa7f806a-2ce7-4e23-fe57-1643a7262cc1"
      },
      "source": [
        "##Multiplicative Seasonality\n",
        "\n",
        "Mul_sea = smf.ols('Log_sales~Jan+Feb+Mar+Apr+May+Jun+Jul+Aug+Sep+Oct+Nov',data = Train).fit()\n",
        "pred_Mult_sea = pd.Series(Mul_sea.predict(Test[['Jan','Feb','Mar','Apr','May','Jun','Jul','Aug','Sep','Oct','Nov']]))\n",
        "rmse_Mult_sea = np.sqrt(np.mean((np.array(Test['Sales'])-np.array(np.exp(pred_Mult_sea)))**2))\n",
        "\n",
        "rmse_Mult_sea"
      ],
      "execution_count": 42,
      "outputs": [
        {
          "output_type": "execute_result",
          "data": {
            "text/plain": [
              "1939.0823781993013"
            ]
          },
          "metadata": {
            "tags": []
          },
          "execution_count": 42
        }
      ]
    },
    {
      "cell_type": "code",
      "metadata": {
        "colab": {
          "base_uri": "https://localhost:8080/"
        },
        "id": "x8lmuhBy0qSC",
        "outputId": "dbe25d40-bb5f-456a-9286-92b032bf4070"
      },
      "source": [
        "#Multiplicative Seasonality with linear trend\n",
        "\n",
        "Mul_Add_sea = smf.ols('Log_sales~t+Jan+Feb+Mar+Apr+May+Jun+Jul+Aug+Sep+Oct+Nov',data = Train).fit()\n",
        "pred_Mult_add_sea = pd.Series(Mul_Add_sea.predict(Test[['Jan','Feb','Mar','Apr','May','Jun','Jul','Aug','Sep','Oct','Nov','t']]))\n",
        "rmse_Mult_add_sea = np.sqrt(np.mean((np.array(Test['Sales'])-np.array(np.exp(pred_Mult_add_sea)))**2))\n",
        "rmse_Mult_add_sea "
      ],
      "execution_count": 44,
      "outputs": [
        {
          "output_type": "execute_result",
          "data": {
            "text/plain": [
              "236.2636402037818"
            ]
          },
          "metadata": {
            "tags": []
          },
          "execution_count": 44
        }
      ]
    },
    {
      "cell_type": "code",
      "metadata": {
        "colab": {
          "base_uri": "https://localhost:8080/"
        },
        "id": "_VIA0Rt-Es6M",
        "outputId": "bfa37cef-3a4c-429f-a839-58e324d68992"
      },
      "source": [
        "#Multiplicative Seasonality with Quadratic trend\n",
        "\n",
        "Mul_quad = smf.ols('Log_sales~t+t_squared+Jan+Feb+Mar+Apr+May+Jun+Jul+Aug+Sep+Oct+Nov',data = Train).fit()\n",
        "pred_Mult_quad_sea = pd.Series(Mul_quad.predict(Test[['Jan','Feb','Mar','Apr','May','Jun','Jul','Aug','Sep','Oct','Nov','t','t_squared']]))\n",
        "rmse_Mult_quad_sea = np.sqrt(np.mean((np.array(Test['Sales'])-np.array(np.exp(pred_Mult_quad_sea)))**2))\n",
        "rmse_Mult_quad_sea"
      ],
      "execution_count": 46,
      "outputs": [
        {
          "output_type": "execute_result",
          "data": {
            "text/plain": [
              "544.8723908117315"
            ]
          },
          "metadata": {
            "tags": []
          },
          "execution_count": 46
        }
      ]
    },
    {
      "cell_type": "code",
      "metadata": {
        "colab": {
          "base_uri": "https://localhost:8080/",
          "height": 331
        },
        "id": "JRxSgmTt0qSC",
        "outputId": "4190d325-2905-47c0-c3d6-a621d4aa3261"
      },
      "source": [
        "#Compare the results \n",
        "\n",
        "data = {\"MODEL\":pd.Series([\"rmse_linear\",\"rmse_Exp\",\"rmse_Quad\",\"rmse_add_sea\",\"rmse_add_sea_lin\",\"rmse_add_sea_quad\",\"rmse_Mult_sea\",\"rmse_Mult_add_sea\",\"rmse_Mult_quad_sea\"]),\"RMSE_Values\":pd.Series([rmse_lin,rmse_exp,rmse_Quad,rmse_add_sea,rmse_add_sea_lin,rmse_add_sea_quad,rmse_Mult_sea,rmse_Mult_add_sea,rmse_Mult_quad_sea])}\n",
        "table_rmse=pd.DataFrame(data)\n",
        "table_rmse.sort_values(['RMSE_Values'])"
      ],
      "execution_count": 50,
      "outputs": [
        {
          "output_type": "execute_result",
          "data": {
            "text/html": [
              "<div>\n",
              "<style scoped>\n",
              "    .dataframe tbody tr th:only-of-type {\n",
              "        vertical-align: middle;\n",
              "    }\n",
              "\n",
              "    .dataframe tbody tr th {\n",
              "        vertical-align: top;\n",
              "    }\n",
              "\n",
              "    .dataframe thead th {\n",
              "        text-align: right;\n",
              "    }\n",
              "</style>\n",
              "<table border=\"1\" class=\"dataframe\">\n",
              "  <thead>\n",
              "    <tr style=\"text-align: right;\">\n",
              "      <th></th>\n",
              "      <th>MODEL</th>\n",
              "      <th>RMSE_Values</th>\n",
              "    </tr>\n",
              "  </thead>\n",
              "  <tbody>\n",
              "    <tr>\n",
              "      <th>7</th>\n",
              "      <td>rmse_Mult_add_sea</td>\n",
              "      <td>236.263640</td>\n",
              "    </tr>\n",
              "    <tr>\n",
              "      <th>5</th>\n",
              "      <td>rmse_add_sea_quad</td>\n",
              "      <td>271.906233</td>\n",
              "    </tr>\n",
              "    <tr>\n",
              "      <th>2</th>\n",
              "      <td>rmse_Quad</td>\n",
              "      <td>416.124047</td>\n",
              "    </tr>\n",
              "    <tr>\n",
              "      <th>4</th>\n",
              "      <td>rmse_add_sea_lin</td>\n",
              "      <td>461.566374</td>\n",
              "    </tr>\n",
              "    <tr>\n",
              "      <th>8</th>\n",
              "      <td>rmse_Mult_quad_sea</td>\n",
              "      <td>544.872391</td>\n",
              "    </tr>\n",
              "    <tr>\n",
              "      <th>0</th>\n",
              "      <td>rmse_linear</td>\n",
              "      <td>561.942808</td>\n",
              "    </tr>\n",
              "    <tr>\n",
              "      <th>3</th>\n",
              "      <td>rmse_add_sea</td>\n",
              "      <td>1840.304290</td>\n",
              "    </tr>\n",
              "    <tr>\n",
              "      <th>6</th>\n",
              "      <td>rmse_Mult_sea</td>\n",
              "      <td>1939.082378</td>\n",
              "    </tr>\n",
              "    <tr>\n",
              "      <th>1</th>\n",
              "      <td>rmse_Exp</td>\n",
              "      <td>4645.293933</td>\n",
              "    </tr>\n",
              "  </tbody>\n",
              "</table>\n",
              "</div>"
            ],
            "text/plain": [
              "                MODEL  RMSE_Values\n",
              "7   rmse_Mult_add_sea   236.263640\n",
              "5   rmse_add_sea_quad   271.906233\n",
              "2           rmse_Quad   416.124047\n",
              "4    rmse_add_sea_lin   461.566374\n",
              "8  rmse_Mult_quad_sea   544.872391\n",
              "0         rmse_linear   561.942808\n",
              "3        rmse_add_sea  1840.304290\n",
              "6       rmse_Mult_sea  1939.082378\n",
              "1            rmse_Exp  4645.293933"
            ]
          },
          "metadata": {
            "tags": []
          },
          "execution_count": 50
        }
      ]
    },
    {
      "cell_type": "markdown",
      "metadata": {
        "id": "-ZNKdCKyGmDw"
      },
      "source": [
        "rmse_Mult_add_sea has low rmse value. Hence, we can say that our data follows a linear trend with Multiplicative seasonality."
      ]
    },
    {
      "cell_type": "code",
      "metadata": {
        "id": "ZOjAmTTW0qSD"
      },
      "source": [
        "#Build the model on entire data set\n",
        "model_full = smf.ols('Log_sales~t+Jan+Feb+Mar+Apr+May+Jun+Jul+Aug+Sep+Oct+Nov',data=series).fit()"
      ],
      "execution_count": 53,
      "outputs": []
    },
    {
      "cell_type": "markdown",
      "metadata": {
        "id": "tBYRmMO7HCjs"
      },
      "source": [
        "model_full can be be used to predict or forecast the sales in the coming months or years."
      ]
    },
    {
      "cell_type": "markdown",
      "metadata": {
        "id": "OJWiJAY0NBJU"
      },
      "source": [
        "##Data driven models"
      ]
    },
    {
      "cell_type": "markdown",
      "metadata": {
        "id": "tZdM7IJ2NDdB"
      },
      "source": [
        "Let us also forecast the sales using data driven models"
      ]
    },
    {
      "cell_type": "markdown",
      "metadata": {
        "id": "VjHogtD2NMXj"
      },
      "source": [
        "MOving Average"
      ]
    },
    {
      "cell_type": "code",
      "metadata": {
        "colab": {
          "base_uri": "https://localhost:8080/",
          "height": 283
        },
        "id": "UVr4W4gK0qSD",
        "outputId": "cb472265-9bfe-426f-e05b-884817be1555"
      },
      "source": [
        "plt.figure(figsize=(12,4))\n",
        "series.Sales.plot(label='original')\n",
        "for i in range(5,25,5): #Window chosen is 5,10,15 and 20\n",
        "    series['Sales'].rolling(i).mean().plot(label=str(i))\n",
        "plt.legend(loc='best')"
      ],
      "execution_count": 61,
      "outputs": [
        {
          "output_type": "execute_result",
          "data": {
            "text/plain": [
              "<matplotlib.legend.Legend at 0x7fa158e1cbd0>"
            ]
          },
          "metadata": {
            "tags": []
          },
          "execution_count": 61
        },
        {
          "output_type": "display_data",
          "data": {
            "image/png": "[encoded data removed]",
            "text/plain": [
              "<Figure size 864x288 with 1 Axes>"
            ]
          },
          "metadata": {
            "tags": [],
            "needs_background": "light"
          }
        }
      ]
    },
    {
      "cell_type": "markdown",
      "metadata": {
        "id": "UOWSVjGWNszg"
      },
      "source": [
        "In order to view the TSE plot(Trend,Seasonality,Error or residuals), we need to set the index to Date."
      ]
    },
    {
      "cell_type": "code",
      "metadata": {
        "id": "qSCCELks0qSE"
      },
      "source": [
        "series1=series.set_index(['date'])"
      ],
      "execution_count": 63,
      "outputs": []
    },
    {
      "cell_type": "code",
      "metadata": {
        "colab": {
          "base_uri": "https://localhost:8080/"
        },
        "id": "5muSP7uu0qSF",
        "outputId": "2d12822c-27c1-444b-8f81-ab707f08afcf"
      },
      "source": [
        "series1.index"
      ],
      "execution_count": 64,
      "outputs": [
        {
          "output_type": "execute_result",
          "data": {
            "text/plain": [
              "DatetimeIndex(['1986-01-31', '1986-02-28', '1986-03-31', '1986-04-30',\n",
              "               '1986-05-31', '1986-06-30', '1986-07-31', '1986-08-31',\n",
              "               '1986-09-30', '1986-10-31',\n",
              "               ...\n",
              "               '1995-07-31', '1995-08-31', '1995-09-30', '1995-10-31',\n",
              "               '1995-11-30', '1995-12-31', '1996-01-31', '1996-02-29',\n",
              "               '1996-03-31', '1996-04-30'],\n",
              "              dtype='datetime64[ns]', name='date', length=124, freq=None)"
            ]
          },
          "metadata": {
            "tags": []
          },
          "execution_count": 64
        }
      ]
    },
    {
      "cell_type": "code",
      "metadata": {
        "id": "5bXlAT-80qSF"
      },
      "source": [
        "#Set the frequency to months\n",
        "series1=series1.asfreq('M')"
      ],
      "execution_count": 65,
      "outputs": []
    },
    {
      "cell_type": "code",
      "metadata": {
        "colab": {
          "base_uri": "https://localhost:8080/",
          "height": 298
        },
        "id": "unWCWYfS0qSF",
        "outputId": "a4162e58-3814-4c04-bbb4-58567d4fef4f"
      },
      "source": [
        "from statsmodels.tsa.seasonal import seasonal_decompose\n",
        "decompose_ts=seasonal_decompose(series1.Sales,model='multiplicative')\n",
        "decompose_ts.plot()\n",
        "plt.show()"
      ],
      "execution_count": 66,
      "outputs": [
        {
          "output_type": "display_data",
          "data": {
            "image/png": "[encoded data removed]",
            "text/plain": [
              "<Figure size 432x288 with 4 Axes>"
            ]
          },
          "metadata": {
            "tags": [],
            "needs_background": "light"
          }
        }
      ]
    },
    {
      "cell_type": "markdown",
      "metadata": {
        "id": "Hc8MV5YJOAki"
      },
      "source": [
        "Here, we see that the Trend is Linear and the Seasonality is Additive."
      ]
    },
    {
      "cell_type": "code",
      "metadata": {
        "colab": {
          "base_uri": "https://localhost:8080/",
          "height": 545
        },
        "id": "pMsB80qr0qSG",
        "outputId": "d5cb007a-0708-4726-f1f3-38fccb65fa9b"
      },
      "source": [
        "import statsmodels.graphics.tsaplots as tsa_plots\n",
        "tsa_plots.plot_acf(series.Sales,lags=12)\n",
        "tsa_plots.plot_pacf(series.Sales,lags=12)\n",
        "plt.show()"
      ],
      "execution_count": 67,
      "outputs": [
        {
          "output_type": "display_data",
          "data": {
            "image/png": "[encoded data removed]",
            "text/plain": [
              "<Figure size 432x288 with 1 Axes>"
            ]
          },
          "metadata": {
            "tags": [],
            "needs_background": "light"
          }
        },
        {
          "output_type": "display_data",
          "data": {
            "image/png": "[encoded data removed]",
            "text/plain": [
              "<Figure size 432x288 with 1 Axes>"
            ]
          },
          "metadata": {
            "tags": [],
            "needs_background": "light"
          }
        }
      ]
    },
    {
      "cell_type": "code",
      "metadata": {
        "id": "waB89jtk0qSG"
      },
      "source": [
        "#Evaluation metric\n",
        "def MAPE(pred,org):\n",
        "    error=np.abs((pred-org))*100/org\n",
        "    return np.mean(error)"
      ],
      "execution_count": 85,
      "outputs": []
    },
    {
      "cell_type": "code",
      "metadata": {
        "colab": {
          "base_uri": "https://localhost:8080/"
        },
        "id": "evKuGqww0qSG",
        "outputId": "a46b76a1-66ad-4088-aa6a-ec96289c47da"
      },
      "source": [
        "#Simple exponential method\n",
        "from statsmodels.tsa.holtwinters import SimpleExpSmoothing\n",
        "ses_model=SimpleExpSmoothing(Train['Sales']).fit(smoothing_level=0.2)\n",
        "pred_ses=ses_model.predict(start=Test.index[0],end=Test.index[-1])\n",
        "MAPE(pred_ses,Test.Sales)"
      ],
      "execution_count": 86,
      "outputs": [
        {
          "output_type": "stream",
          "text": [
            "/usr/local/lib/python3.7/dist-packages/statsmodels/tsa/holtwinters.py:712: ConvergenceWarning: Optimization failed to converge. Check mle_retvals.\n",
            "  ConvergenceWarning)\n"
          ],
          "name": "stderr"
        },
        {
          "output_type": "execute_result",
          "data": {
            "text/plain": [
              "7.5289201512217145"
            ]
          },
          "metadata": {
            "tags": []
          },
          "execution_count": 86
        }
      ]
    },
    {
      "cell_type": "code",
      "metadata": {
        "colab": {
          "base_uri": "https://localhost:8080/"
        },
        "id": "uaTnUriC0qSG",
        "outputId": "31f3fbad-50d6-4bb1-987b-fdff46f33c94"
      },
      "source": [
        "#Holt method\n",
        "from statsmodels.tsa.holtwinters import Holt\n",
        "holt_model=Holt(Train['Sales']).fit(smoothing_level=0.2,smoothing_slope=0.2)\n",
        "pred_holt=holt_model.predict(start=Test.index[0],end=Test.index[-1])\n",
        "MAPE(pred_holt,Test.Sales)"
      ],
      "execution_count": 97,
      "outputs": [
        {
          "output_type": "execute_result",
          "data": {
            "text/plain": [
              "7.780038647775863"
            ]
          },
          "metadata": {
            "tags": []
          },
          "execution_count": 97
        }
      ]
    },
    {
      "cell_type": "code",
      "metadata": {
        "colab": {
          "base_uri": "https://localhost:8080/"
        },
        "id": "zeSrmcrF0qSG",
        "outputId": "a408f191-9b90-4596-bc26-79894e8852ae"
      },
      "source": [
        "# Holts winter exponential smoothing with additive seasonality and additive tren\n",
        "from statsmodels.tsa.holtwinters import ExponentialSmoothing\n",
        "hwe_model_add_add = ExponentialSmoothing(Train[\"Sales\"],seasonal=\"add\",trend=\"add\",seasonal_periods=12,damped=True).fit() #add the trend to the model\n",
        "pred_hwe_add_add = hwe_model_add_add.predict(start = Test.index[0],end = Test.index[-1])\n",
        "MAPE(pred_hwe_add_add,Test.Sales) "
      ],
      "execution_count": 90,
      "outputs": [
        {
          "output_type": "stream",
          "text": [
            "/usr/local/lib/python3.7/dist-packages/statsmodels/tsa/holtwinters.py:712: ConvergenceWarning: Optimization failed to converge. Check mle_retvals.\n",
            "  ConvergenceWarning)\n"
          ],
          "name": "stderr"
        },
        {
          "output_type": "execute_result",
          "data": {
            "text/plain": [
              "10.698676296887106"
            ]
          },
          "metadata": {
            "tags": []
          },
          "execution_count": 90
        }
      ]
    },
    {
      "cell_type": "code",
      "metadata": {
        "colab": {
          "base_uri": "https://localhost:8080/"
        },
        "id": "1z_PjIdY0qSH",
        "outputId": "8fa594c7-f5dc-450a-c9ee-96308f7b7a0f"
      },
      "source": [
        "# Holts winter exponential smoothing with multiplicative seasonality and additive trend\n",
        "hwe_model_mul_add = ExponentialSmoothing(Train[\"Sales\"],seasonal=\"mul\",trend=\"add\",seasonal_periods=12).fit() \n",
        "pred_hwe_mul_add = hwe_model_mul_add.predict(start = Test.index[0],end = Test.index[-1])\n",
        "MAPE(pred_hwe_mul_add,Test.Sales)"
      ],
      "execution_count": 91,
      "outputs": [
        {
          "output_type": "stream",
          "text": [
            "/usr/local/lib/python3.7/dist-packages/statsmodels/tsa/holtwinters.py:712: ConvergenceWarning: Optimization failed to converge. Check mle_retvals.\n",
            "  ConvergenceWarning)\n"
          ],
          "name": "stderr"
        },
        {
          "output_type": "execute_result",
          "data": {
            "text/plain": [
              "15.748445717141452"
            ]
          },
          "metadata": {
            "tags": []
          },
          "execution_count": 91
        }
      ]
    },
    {
      "cell_type": "code",
      "metadata": {
        "colab": {
          "base_uri": "https://localhost:8080/",
          "height": 283
        },
        "id": "3h1cMhhN0qSH",
        "outputId": "b8670f52-cee6-4407-fe2b-3121d69bea6e"
      },
      "source": [
        "#Visualisation of Forecasted values for Test dataset using different methods\n",
        "plt.plot(Train.index,Train['Sales'],label='Train',color='black')\n",
        "plt.plot(Test.index,Test['Sales'],label='Test',color='blue')\n",
        "plt.plot(pred_ses.index,pred_ses,label='SimpleExponentianl',color='green')\n",
        "plt.plot(pred_holt.index,pred_holt,label='Holt_winter',color='red')\n",
        "plt.plot(pred_hwe_add_add.index,pred_hwe_add_add,label='HoltswinterExponential_1',color='brown')\n",
        "plt.plot(pred_hwe_mul_add.index,pred_hwe_mul_add,label='HoltswinterExponential_2',color='yellow')\n",
        "plt.legend(loc='best')"
      ],
      "execution_count": 98,
      "outputs": [
        {
          "output_type": "execute_result",
          "data": {
            "text/plain": [
              "<matplotlib.legend.Legend at 0x7fa15882c990>"
            ]
          },
          "metadata": {
            "tags": []
          },
          "execution_count": 98
        },
        {
          "output_type": "display_data",
          "data": {
            "image/png": "[encoded data removed]",
            "text/plain": [
              "<Figure size 432x288 with 1 Axes>"
            ]
          },
          "metadata": {
            "tags": [],
            "needs_background": "light"
          }
        }
      ]
    },
    {
      "cell_type": "markdown",
      "metadata": {
        "id": "267-CNLBRx1B"
      },
      "source": [
        "We can see that Holt winter model gives the least error but Holt Winter Exponential model gives us some similar pattern with the Test sales of our dataset."
      ]
    },
    {
      "cell_type": "code",
      "metadata": {
        "id": "-Nc9I_oURcJ6"
      },
      "source": [
        ""
      ],
      "execution_count": null,
      "outputs": []
    }
  ]
}